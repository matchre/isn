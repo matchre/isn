{
 "metadata": {
  "name": "",
  "signature": "sha256:0f5d911d35eca6163a8f395591db21f5ddc8c6e69506abc4d96bb3455c962b24"
 },
 "nbformat": 3,
 "nbformat_minor": 0,
 "worksheets": [
  {
   "cells": [
    {
     "cell_type": "heading",
     "level": 1,
     "metadata": {},
     "source": [
      "Python 7 - D\u00e9couverte du r\u00e9seau et serveur"
     ]
    },
    {
     "cell_type": "heading",
     "level": 2,
     "metadata": {},
     "source": [
      "Partie I : Adresses r\u00e9seau"
     ]
    },
    {
     "cell_type": "markdown",
     "metadata": {},
     "source": [
      "Sur un r\u00e9seau, chaque ordinateur a une adresse appel\u00e9e adresse IP (Internet Protocol).\n",
      "\u00ab Internet Protocol \u00bb est un m\u00e9canisme invent\u00e9 pour le r\u00e9seau internet mais qui est maintenant utilis\u00e9 pratiquement tous les r\u00e9seaux, y compris les petits r\u00e9seaux domestiques.\n",
      "\n",
      "Sur Internet, chaque machine connect\u00e9e au r\u00e9seau (ordinateur, t\u00e9l\u00e9phone, ...) poss\u00e8de une \u00abadresse IP\u00bb unique. Cette adresse est constitu\u00e9e de 4 octets."
     ]
    },
    {
     "cell_type": "markdown",
     "metadata": {},
     "source": [
      "1) Combien de machines peut-on connecter sur Internet ?\n",
      "\n",
      "R\u00e9pondez ici..."
     ]
    },
    {
     "cell_type": "markdown",
     "metadata": {},
     "source": [
      "2) Ce protocole (nomm\u00e9 ipv4) a manifestement atteint ses limites. Un nouveau protocole, nomm\u00e9 ipv6 est en cours de d\u00e9ploiement sur Internet. Il utilise des adresses de 128 bits.\n",
      "Combien de machines pourront \u00eatre connect\u00e9es simultan\u00e9ment gr\u00e2ce \u00e0 ce nouveau protocole ?\n",
      "\n",
      "R\u00e9pondez ici..."
     ]
    },
    {
     "cell_type": "markdown",
     "metadata": {},
     "source": [
      "3) Ouvrir un terminal et taper \u00e0 l\u2019invite de commande la commande $\\fbox{/sbin/ifconfig}$\n",
      "\n",
      "a. Quelle est votre adresse IP ? ...\n",
      "\n",
      "b. Quelle est l'adresse IP de votre voisin ? ...\n",
      "\n",
      "c. Quelle partie votre adresse IP et celle de votre voisin ont-elle en commun ? ...\n",
      "\n",
      "d. Vous pouvez tenter de communiquer avec votre voisin au travers de la commande\n",
      "$\\fbox{ping Adresse_Ip.De.Votre.Voisin}$ dans le terminal. Qu\u2019obtenez-vous ?"
     ]
    },
    {
     "cell_type": "heading",
     "level": 2,
     "metadata": {},
     "source": [
      "Partie II : Les noms sur internet"
     ]
    },
    {
     "cell_type": "markdown",
     "metadata": {},
     "source": [
      "Les ordinateurs utilisent les adresses IP mais il est rare que les humains les retiennent : on pr\u00e9f\u00e8re utiliser des noms.\n",
      "\n",
      "Chaque ordinateur peut avoir un - ou plusieurs - nom. Dans un r\u00e9seau il existe des ordinateurs dont la seule fonction est de tenir \u00e0 jour les tables de correspondance entre les adresses IP et les noms dans une sorte d\u2019annuaire semblable aux annuaires t\u00e9l\u00e9phoniques : les serveurs de noms (en abr\u00e9g\u00e9 *DNS*)"
     ]
    },
    {
     "cell_type": "markdown",
     "metadata": {},
     "source": [
      "1) Dans un terminal, taper $\\fbox{ping lcs}$ puis $\\fbox{ping google.fr}$ ."
     ]
    },
    {
     "cell_type": "markdown",
     "metadata": {},
     "source": [
      "2) Quelle est l\u2019adresse IP du Lcs ?\n",
      "\n",
      "R\u00e9pondez ici ..."
     ]
    },
    {
     "cell_type": "markdown",
     "metadata": {},
     "source": [
      "3) Quelle est l\u2019adresse IP de Google.fr ?\n",
      "\n",
      "R\u00e9pondez ici ..."
     ]
    },
    {
     "cell_type": "heading",
     "level": 2,
     "metadata": {},
     "source": [
      "Partie III : Principe de la communication Client/Serveur"
     ]
    },
    {
     "cell_type": "markdown",
     "metadata": {},
     "source": [
      "Un ordinateur (le ***serveur***) fait tourner en permanence un programme (un ***service***) qui\n",
      "- attend que d\u2019autres ordinateurs (les ***clients***) le sollicitent\n",
      "- g\u00e8re les \u00e9changes une fois la liaison \u00e9tablie"
     ]
    },
    {
     "cell_type": "markdown",
     "metadata": {},
     "source": [
      "1) Citer des exemples de communications client/serveur dans vos usages quotidien des r\u00e9seaux.\n",
      "\n",
      "Votre r\u00e9ponse ici ..."
     ]
    },
    {
     "cell_type": "markdown",
     "metadata": {},
     "source": [
      "2) Pour ces exemples, d\u00e9crire le r\u00f4le du serveur et du client.\n",
      "\n",
      "Votre r\u00e9ponse ici"
     ]
    },
    {
     "cell_type": "heading",
     "level": 2,
     "metadata": {},
     "source": [
      "Partie IV : Ecrire un programme serveur en Python"
     ]
    },
    {
     "cell_type": "markdown",
     "metadata": {},
     "source": [
      "Voici un programme serveur basique \u00e9crit en Python. On utilise ici la librairie ***socket*** qui g\u00e8re la communication r\u00e9seau en Python.\n",
      "\n",
      "Ex\u00e9cutez cette cellule puis ouvrez le classeur **Python7 - Reseau client** pour ex\u00e9cuter la partie cliente.\n",
      "\n",
      "Remarquez que quand le serveur tourne, le kernel python est monopolis\u00e9 et ne permet plus l'ex\u00e9cution d'une autre cellule, d'o\u00f9 la n\u00e9cessit\u00e9 de changer de classeur pour la partie cliente.\n",
      "\n",
      "N\u00e9anmoins, vous pourrez compl\u00e9ter la section suivante sur la compr\u00e9hension du programme et r\u00e9pondre aux questions pos\u00e9es pendant que le serveur tourne."
     ]
    },
    {
     "cell_type": "heading",
     "level": 3,
     "metadata": {},
     "source": [
      "Le programme serveur"
     ]
    },
    {
     "cell_type": "code",
     "collapsed": false,
     "input": [
      "from socket import *\n",
      "\n",
      "### Mise en place du service ########\n",
      "MON_IP ,PORT = '127.0.0.1' , 50000\n",
      "service = socket(AF_INET, SOCK_STREAM)\n",
      "try:\n",
      "    service.bind((MON_IP , PORT))\n",
      "    tourne = True\n",
      "except error :\n",
      "    print(\"Impossible de d\u00e9marrer le service.\")\n",
      "    tourne = False\n",
      "    \n",
      "while tourne :\n",
      "    print(\"Serveur pr\u00eat, en attente de requ\u00e8tes ...\")\n",
      "    service.listen(1)\n",
      "    ### Mise en place d?une connexion ########\n",
      "    connexion, adresse = service.accept()\n",
      "    print(\"Client connect\u00e9. : \",adresse[0])\n",
      "    ### Dialogue avec le client ########\n",
      "    message = \"\"\n",
      "    while message.upper() != \"FIN\" :\n",
      "        message = input(\"moi > \")\n",
      "        connexion.send(message.encode(\"utf8\"))\n",
      "        if message.upper() != \"FIN\" :\n",
      "            message = connexion.recv(1024).decode(\"utf8\")\n",
      "            print(\"client > \", message)\n",
      "    connexion.close()\n",
      "    \n",
      "    ch = input(\"<R>ecommencer <T>erminer ? \")\n",
      "    ch = ch[0].upper()\n",
      "    if ch =='T':\n",
      "        tourne = False\n",
      "    \n",
      "service.close()"
     ],
     "language": "python",
     "metadata": {},
     "outputs": []
    },
    {
     "cell_type": "heading",
     "level": 3,
     "metadata": {},
     "source": [
      "Compr\u00e9hension du programme serveur"
     ]
    },
    {
     "cell_type": "markdown",
     "metadata": {},
     "source": [
      "1) Sur quelle adresse IP le serveur va t-il r\u00e9pondre ? \n",
      "\n",
      "Votre r\u00e9ponse ..."
     ]
    },
    {
     "cell_type": "markdown",
     "metadata": {},
     "source": [
      "2) Une m\u00eame machine peut h\u00e9berger plusieurs services (programmes serveur). En effet le Lcs h\u00e9berge un serveur web, un serveur de base de donn\u00e9es, des services de messagerie, etc... . Pour \u00e9viter que ces services entrent en conflit, on utilise en plus de l\u2019adresse IP un num\u00e9ro de port qui peut \u00eatre vu comme un canal de communication. Ce num\u00e9ro de port est compris entre 1024 et 65535.\n",
      "\n",
      "a. Quel num\u00e9ro de port est utilis\u00e9 dans le programme \u00e9tudi\u00e9 ? ...\n",
      "\n",
      "b. Changer le num\u00e9ro de port sur le serveur. Que se passe t-il au niveau du client ? ...\n",
      "\n",
      "c. Adapter \u00e9galement le num\u00e9ro de port sur le client. Le programme fonctionne t-il \u00e0 nouveau ? ..."
     ]
    },
    {
     "cell_type": "markdown",
     "metadata": {},
     "source": [
      "3) Quelle commande est responsable sur le serveur de l\u2019envoi du message au client ?\n",
      "\n",
      "Votre r\u00e9ponse ..."
     ]
    },
    {
     "cell_type": "markdown",
     "metadata": {},
     "source": [
      "4) \u00c9crire en langage naturel l\u2019algorithme correspondant au serveur\n",
      "\n",
      "Votre r\u00e9ponse ..."
     ]
    },
    {
     "cell_type": "markdown",
     "metadata": {},
     "source": [
      "5) Quel message taper cot\u00e9 client ou serveur pour mettre fin \u00e0 la communication ?\n",
      "\n",
      "Votre r\u00e9ponse ..."
     ]
    },
    {
     "cell_type": "heading",
     "level": 1,
     "metadata": {},
     "source": [
      "A vous de jouer : Jeu du juste prix en r\u00e9seau"
     ]
    },
    {
     "cell_type": "markdown",
     "metadata": {},
     "source": [
      "L\u2019objectif de l\u2019activit\u00e9 est de r\u00e9aliser un jeu de juste prix en r\u00e9seau.\n",
      "\n",
      "1) D\u00e9crire le r\u00f4le du serveur et du client.\n",
      "\n",
      "Votre r\u00e9ponse ..."
     ]
    },
    {
     "cell_type": "markdown",
     "metadata": {},
     "source": [
      "2) \u00c9crire l\u2019algorithme en langage naturel d\u2019un jeu de juste prix en r\u00e9seau. Vous devrez pour cela \u00e9crire l\u2019algorithme du serveur et du client."
     ]
    },
    {
     "cell_type": "markdown",
     "metadata": {},
     "source": [
      "3) en vous aidant des commandes vues dans l\u2019exemple \u00e9tudier, modifier le programme serveur\n",
      "\u00e9tudi\u00e9 afin de programmer un jeu de juste prix en r\u00e9seau. On pourra essayer de deviner un nombre\n",
      "entier entre 1 et 100."
     ]
    },
    {
     "cell_type": "code",
     "collapsed": false,
     "input": [
      "# Votre programme ici..."
     ],
     "language": "python",
     "metadata": {},
     "outputs": []
    },
    {
     "cell_type": "code",
     "collapsed": false,
     "input": [],
     "language": "python",
     "metadata": {},
     "outputs": []
    }
   ],
   "metadata": {}
  }
 ]
}