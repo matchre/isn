{
 "cells": [
  {
   "cell_type": "markdown",
   "metadata": {
    "collapsed": true
   },
   "source": [
    "Un pendu pour se rassurer\n",
    "=========================\n",
    "\n",
    "Réouvrir la page principale\n",
    "---------------------------\n",
    "\n",
    "[Cliquer ici](../main.ipynb)\n",
    "\n",
    "\n",
    "À vous de jouer : traduire un algorithme en Python\n",
    "--------------------------------------------------\n",
    "\n",
    "Redonnons l'algorithme qui était proposé."
   ]
  },
  {
   "cell_type": "raw",
   "metadata": {
    "collapsed": false
   },
   "source": [
    "# Deux variables générales modifiables sans problème.\n",
    "MOT_A_DECOUVRIR = \"strangulation\"  # Mot en minuscules obligatoirement !\n",
    "NBRE_MAX_ESSAIS = 10\n",
    "\n",
    "# Début de la partie.\n",
    "lettres_trouvees = Ensemble vide\n",
    "nbre_essais = 1\n",
    "a_gagne = FAUX\n",
    "\n",
    "Tant que a_gagne = FAUX et nbre_essais <= NBRE_MAX_ESSAIS:\n",
    "    # On indique au joueur où il en est.\n",
    "    # Ci-dessous, \"\" définit un texte vide.\n",
    "    infos_mots = \"\"\n",
    "    \n",
    "    Pour chaque caractère cara obtenu en parcourant MOT_A_DECOUVRIR\n",
    "    de gauche à droite:\n",
    "        Si cara est dans l'ensemble lettres_trouvees:\n",
    "            Ajouter cara à infos_mots\n",
    "        Sinon:\n",
    "            Ajouter le caractère tiret à infos_mots\n",
    "    \n",
    "    Afficher \"Essai n°\", nbre_essais, \"sur\", NBRE_MAX_ESSAIS\n",
    "    Afficher \"Mots à trouver :\", infos_mots   \n",
    "\n",
    "    # On interroge le joueur.\n",
    "    Demander au joueur une lettre ou un mot.\n",
    "    Stocker sa réponse dans la variable une_proposition.\n",
    "    Mettre le contenu de une_proposition tout en minuscule.\n",
    "\n",
    "    # Une lettre du mot a été trouvée.\n",
    "    Si une_proposition est de longueur 1 et une_proposition\n",
    "    apparaît dans le texte MOT_A_DECOUVRIR:\n",
    "        Afficher \"Une nouvelle lettre trouvée.\"\n",
    "        Ajouter la lettre une_proposition à l'ensemble \n",
    "        lettres_trouvees.\n",
    "        \n",
    "    # Une lettre n'a pas été trouvée. On considère dans \n",
    "    # ce cas que le joueur propose une réponse (on ne\n",
    "    # gère pas les erreurs de saisie).\n",
    "    Sinon Si une_proposition = MOT_A_DECOUVRIR:\n",
    "        a_gagne = VRAI\n",
    "        \n",
    "    # Un esai de plus a été effectué.\n",
    "    nbre_essais = nbre_essais + 1\n",
    "\n",
    "# Tous les essais ont été tentés, et/ou le joueur a gagné.\n",
    "Si a_gagne = VRAI:\n",
    "    Afficher \"Bravo ! Vous avez gagné. Le mot était bien :\"\n",
    "Sinon:\n",
    "    Afficher \"Perdu ! Le mot était :\"\n",
    "\n",
    "Afficher MOT_A_DECOUVRIR"
   ]
  },
  {
   "cell_type": "markdown",
   "metadata": {},
   "source": [
    "Voici une traduction directe obtenue en faisant un copier-coller du texte précédent puis ensuite en traduisant les instructions dans le langage Python."
   ]
  },
  {
   "cell_type": "code",
   "execution_count": 1,
   "metadata": {
    "collapsed": false
   },
   "outputs": [
    {
     "name": "stdout",
     "output_type": "stream",
     "text": [
      "\n",
      "Essai n° 1 sur 10\n",
      "Mots à trouver : -------------\n",
      "Proposer une lettre ou un mot : s\n",
      "Une nouvelle lettre trouvée.\n",
      "\n",
      "Essai n° 2 sur 10\n",
      "Mots à trouver : s------------\n",
      "Proposer une lettre ou un mot : a\n",
      "Une nouvelle lettre trouvée.\n",
      "\n",
      "Essai n° 3 sur 10\n",
      "Mots à trouver : s--a----a----\n",
      "Proposer une lettre ou un mot : u\n",
      "Une nouvelle lettre trouvée.\n",
      "\n",
      "Essai n° 4 sur 10\n",
      "Mots à trouver : s--a--u-a----\n",
      "Proposer une lettre ou un mot : saturdaynight\n",
      "\n",
      "Essai n° 5 sur 10\n",
      "Mots à trouver : s--a--u-a----\n",
      "Proposer une lettre ou un mot : strangulation\n",
      "Bravo ! Vous avez gagné. Le mot était bien :\n",
      "strangulation\n"
     ]
    }
   ],
   "source": [
    "# Deux variables générales modifiables sans problème.\n",
    "MOT_A_DECOUVRIR = \"strangulation\"\n",
    "NBRE_MAX_ESSAIS = 10\n",
    "\n",
    "# Début de la partie.\n",
    "lettres_trouvees = set()\n",
    "nbre_essais = 1\n",
    "a_gagne = False\n",
    "\n",
    "while(a_gagne == False and nbre_essais <= NBRE_MAX_ESSAIS):\n",
    "    # On indique au joueur où il en est.\n",
    "    infos_mots = \"\" \n",
    "    \n",
    "    for cara in MOT_A_DECOUVRIR:\n",
    "        if cara in lettres_trouvees:\n",
    "            infos_mots = infos_mots + cara\n",
    "        else:\n",
    "            infos_mots = infos_mots + \"-\"\n",
    "            \n",
    "    print(\"\") # Ligne ajoutée pour la lisibilité !!!\n",
    "\n",
    "    print(\"Essai n°\", nbre_essais, \"sur\", NBRE_MAX_ESSAIS)\n",
    "    print(\"Mots à trouver :\", infos_mots)\n",
    "\n",
    "    # On interroge le joueur.\n",
    "    une_proposition = input(\"Proposer une lettre ou un mot : \")\n",
    "    une_proposition = une_proposition.lower()\n",
    "\n",
    "    # Une lettre du mot a été trouvée.\n",
    "    if len(une_proposition) == 1 and une_proposition in MOT_A_DECOUVRIR:\n",
    "        print(\"Une nouvelle lettre trouvée.\")\n",
    "        lettres_trouvees.add(une_proposition)\n",
    "        \n",
    "    # Une lettre n'a pas été trouvée. On considère dans \n",
    "    # ce cas que le joueur propose une réponse (on ne\n",
    "    # gère pas les erreurs de saisie).\n",
    "    elif une_proposition == MOT_A_DECOUVRIR:\n",
    "        a_gagne = True\n",
    "        \n",
    "    # Un esaie de plus a été effectué.\n",
    "    nbre_essais = nbre_essais + 1\n",
    "\n",
    "# Tous les essais ont été tentés, et/ou le joueur a gagné\n",
    "# la partie.\n",
    "if a_gagne == True:\n",
    "    print(\"Bravo ! Vous avez gagné. Le mot était bien :\")\n",
    "else:\n",
    "    print(\"Perdu ! Le mot était :\")\n",
    "\n",
    "print(MOT_A_DECOUVRIR)"
   ]
  }
 ],
 "metadata": {
  "kernelspec": {
   "display_name": "Python 3",
   "language": "python",
   "name": "python3"
  },
  "language_info": {
   "codemirror_mode": {
    "name": "ipython",
    "version": 3
   },
   "file_extension": ".py",
   "mimetype": "text/x-python",
   "name": "python",
   "nbconvert_exporter": "python",
   "pygments_lexer": "ipython3",
   "version": "3.4.3"
  }
 },
 "nbformat": 4,
 "nbformat_minor": 0
}
