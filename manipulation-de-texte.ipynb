{
    "nbformat_minor": 0, 
    "cells": [
        {
            "source": "## Lire un fichier de texte", 
            "cell_type": "markdown", 
            "metadata": {
                "dicho": {
                    "celltype": "normal", 
                    "readonly": true
                }, 
                "deletable": false
            }
        }, 
        {
            "source": "Le fichier `data/french.txt` contient une liste de mots de la langue fran\u00e7aise. \n", 
            "cell_type": "markdown", 
            "metadata": {
                "dicho": {
                    "celltype": "normal", 
                    "readonly": true
                }, 
                "deletable": false
            }
        }, 
        {
            "cell_type": "code", 
            "outputs": [
                {
                    "text": "a\r\n\u00e0\r\nabaissa\r\nabaissaient\r\nabaissais\r\nabaissait\r\nabaissant\r\nabaisse\r\nabaiss\u00e9\r\nabaiss\u00e9e\r\n", 
                    "name": "stdout", 
                    "output_type": "stream"
                }
            ], 
            "execution_count": null, 
            "source": "!head data/french.txt", 
            "metadata": {
                "dicho": {
                    "celltype": "normal", 
                    "readonly": true
                }, 
                "deletable": false
            }
        }, 
        {
            "cell_type": "code", 
            "outputs": [], 
            "execution_count": null, 
            "source": "n = 0\nflux = open('data/french.txt', 'r')\nfor ligne in flux:\n    mot = ligne.strip();\n    if len(mot) == 2:\n        n = n + 1\nflux.close()\nprint(n)", 
            "metadata": {
                "dicho": {
                    "celltype": "normal", 
                    "readonly": true
                }, 
                "deletable": false
            }
        }, 
        {
            "source": "Le code ci-dessus lit le fichier `data/french.txt` et compte le nombre de mots de deux lettres.\n\n* **Ligne 2 :** La fonction `open` retourne un objet, appel\u00e9 *flux*, qui sera ensuite utilis\u00e9 pour acc\u00e9der au fichier. Le premier argument est le nom du fichier auquel onveut acc\u00e9der. Le second argument pr\u00e9cise que l'on souhaite y acc\u00e9der en lecture (`r` pour *read*).\n\n* ** Ligne 3-6 :** Le fichier de texte est lu ligne par ligne en utilisant une boucle `for`. On \u00e9vite ainsi de charger l'int\u00e9gralit\u00e9 du fichier dans la RAM. Le fichier peut \u00eatre tr\u00e8s gros et d\u00e9passer les capacit\u00e9s m\u00e9moire de la machine.\n\n* ** Ligne 3 :** Un objet *flux* est un objet it\u00e9rable, comme une liste ou une cha\u00eene de caract\u00e8res. Il est donc possible de l'utiliser dans une construction `for` `in`. \u00c0 chaque it\u00e9ration, une nouvelle ligne du fichier est affect\u00e9e \u00e0 la variable `ligne`.\n\n* **Ligne 4 :** Par d\u00e9finition, les lignes d'un fichier de texte sont les suites de caract\u00e8res s\u00e9par\u00e9es par le caract\u00e8re *saut de ligne*, c'est-\u00e0-dire le caract\u00e8re repr\u00e9sent\u00e9 par l'octet `0x0A`. Ce caract\u00e8re est d\u00e9sign\u00e9 en *Python* par `\"\\n\"`. La variable `ligne` contient comme dernier caract\u00e8re le caract\u00e8re *saut de ligne*. La fonction `strip`, appliqu\u00e9e \u00e0 une cha\u00eene de caract\u00e8res, retourne une copie de cette cha\u00eene dans laquelle ont \u00e9t\u00e9 supprim\u00e9s tous les caract\u00e8res *espaces* et *sauts de ligne* situ\u00e9s en d\u00e9but et en fin de cha\u00eene.\n\n* **Ligne 7 :** Lorsque l'ex\u00e9cution la boucle est termin\u00e9e, nous n'avons plus besoin d'acc\u00e9der au fichier. D\u00e8s lors on ex\u00e9cute l'instruction `flux.close()` qui a pour effet de lib\u00e9rer les ressources syst\u00e8mes et mat\u00e9riels utilis\u00e9es pour l'acc\u00e8s au fichier. C'est une bonne pratique d'ouvrir un fichier juste au moment o\u00f9 cela est n\u00e9cessaire et de le fermer d\u00e8s que cela est possible. ", 
            "cell_type": "markdown", 
            "metadata": {
                "dicho": {
                    "celltype": "normal", 
                    "readonly": true
                }, 
                "deletable": false
            }
        }, 
        {
            "cell_type": "code", 
            "outputs": [
                {
                    "output_type": "execute_result", 
                    "execution_count": null, 
                    "data": {
                        "text/plain": "'bonjour'"
                    }, 
                    "metadata": {}
                }
            ], 
            "execution_count": null, 
            "source": "chaine = \"  bonjour \\n\"\nchaine.strip()", 
            "metadata": {
                "dicho": {
                    "celltype": "normal", 
                    "readonly": true
                }, 
                "deletable": false
            }
        }, 
        {
            "source": "### Question 1\n\nCoder la fonction `chercheMots`.\n\n> Pour tester si `texte1` est une sous-cha\u00eene de `texte2`, on peut \u00e9crire `texte1 in texte2`.", 
            "cell_type": "markdown", 
            "metadata": {
                "dicho": {
                    "celltype": "question", 
                    "readonly": true
                }, 
                "deletable": false
            }
        }, 
        {
            "cell_type": "code", 
            "execution_count": null, 
            "source": "def chercheMots(texte):\n    \"\"\" Retourne la liste des mots de `data/french.txt` qui \n        contiennent la cha\u00eene de caract\u00e8res `texte`.\n    \"\"\"\n    ### \u00c0 COMPL\u00c9TER\n      \nchercheMots(\"lol\")", 
            "outputs": [], 
            "metadata": {
                "dicho": {
                    "celltype": "answer"
                }, 
                "deletable": false
            }
        }, 
        {
            "source": "## Cr\u00e9er un fichier de texte", 
            "cell_type": "markdown", 
            "metadata": {
                "dicho": {
                    "celltype": "normal", 
                    "readonly": true
                }, 
                "deletable": false
            }
        }, 
        {
            "cell_type": "code", 
            "outputs": [], 
            "execution_count": null, 
            "source": "flux = open('data/square.txt', 'w')\nfor n in range(1, 10):\n    texte = \"Le carr\u00e9 de %s est %s\" % (n, n**2)\n    flux.write(texte)\n    flux.write('\\n')\nflux.close()", 
            "metadata": {
                "dicho": {
                    "celltype": "normal", 
                    "readonly": true
                }, 
                "deletable": false
            }
        }, 
        {
            "cell_type": "code", 
            "outputs": [
                {
                    "text": "Le carr\u00e9 de 1 est 1\r\nLe carr\u00e9 de 2 est 4\r\nLe carr\u00e9 de 3 est 9\r\nLe carr\u00e9 de 4 est 16\r\nLe carr\u00e9 de 5 est 25\r\nLe carr\u00e9 de 6 est 36\r\nLe carr\u00e9 de 7 est 49\r\nLe carr\u00e9 de 8 est 64\r\nLe carr\u00e9 de 9 est 81\r\n", 
                    "name": "stdout", 
                    "output_type": "stream"
                }
            ], 
            "execution_count": null, 
            "source": "!cat data/square.txt", 
            "metadata": {
                "dicho": {
                    "celltype": "normal", 
                    "readonly": true
                }, 
                "deletable": false
            }
        }, 
        {
            "source": "Dans le code ci-dessus :\n\n* **Ligne 1 :** La fonction `open` est ici utilis\u00e9e pour obtenir un objet *flux* qui va permettre d'acc\u00e9der au fichier en \u00e9criture (`w` pour `write`).\n\n* **Ligne 3 :** On utilise ici l'op\u00e9rateur `%` entre une cha\u00eene de caract\u00e8res et un couple de valeurs. Cet op\u00e9rateur permet de former une cha\u00eene de caract\u00e8res en utilisant les valeurs de `n` et de `n**2`. Les `%s` sont remplac\u00e9s par ces valeurs.\n\n* **Ligne 4 :** La fonction `write`, comme son nom l'indique, \u00e9crit dans le fichier la cha\u00eene pass\u00e9e en argument.\n\n* **Ligne 5 :** On \u00e9crit \u00e9galement un caract\u00e8re *saut de ligne* pour obtenir plusieurs lignes dans le fichier.\n\n* **Ligne 6 :** On ex\u00e9cute la fonction `close` d\u00e8s qu'il n'y a plus rien \u00e0 \u00e9crire. L'ex\u00e9cution de cette fonction force le syst\u00e8me d'exploitation \u00e0 \u00e9crire r\u00e9ellement tous les caract\u00e8res sur le support physique.", 
            "cell_type": "markdown", 
            "metadata": {
                "dicho": {
                    "celltype": "normal", 
                    "readonly": true
                }, 
                "deletable": false
            }
        }, 
        {
            "source": "> ", 
            "cell_type": "markdown", 
            "metadata": {
                "dicho": {
                    "celltype": "normal", 
                    "readonly": false
                }, 
                "deletable": false
            }
        }, 
        {
            "source": "### Question 2\n\nOn consid\u00e8re la fonction $f$ d\u00e9finie par $f(x)=4x(1-x)$ sur l'intervalle $]0,1[$.\nOn peut v\u00e9rifier que $0\\lt f(x)\\lt 1$.\nEn partant d'un r\u00e9el $x_0\\in]0,1[$, la suite des it\u00e9r\u00e9s $f^n(x_0)$ permet de produire une liste de nombres pseudo-al\u00e9atoires\n\nCoder la fonction `alea`.", 
            "cell_type": "markdown", 
            "metadata": {
                "dicho": {
                    "celltype": "question", 
                    "readonly": true
                }, 
                "deletable": false
            }
        }, 
        {
            "cell_type": "code", 
            "execution_count": null, 
            "source": "def alea(nomFichier, n):\n    \"\"\" Cr\u00e9e un fichier de texte `nomFichier` contenant `n` \n        nombres entiers pseudo-al\u00e9atoires compris entre 1 et 6.\n        Chaque ligne contient 32 entiers.\n    \"\"\"\n    ### \u00c0 COMPL\u00c9TER", 
            "outputs": [], 
            "metadata": {
                "dicho": {
                    "celltype": "answer"
                }, 
                "deletable": false
            }
        }, 
        {
            "cell_type": "code", 
            "outputs": [
                {
                    "text": "4 6 1 4 6 1 1 1 3 6 2 6 4 6 1 1 3 6 1 1 2 5 5 6 4 6 1 1 2 5 5 5\r\n6 3 6 1 2 5 5 5 5 5 4 6 2 5 6 3 6 1 1 2 5 4 6 1 3 6 2 5 5 5 4 6\r\n2 4 6 1 3 6 3 6 2 5 6 3 6 1 1 1 1 1 1 1 1 1 1 1 2 4 6 3 6 2 4 6\r\n1 3 6 1 2 5 5 5 6 3 6 1 3 6 1 3 6 1 3 6 1 2 5 4 6 1 3 6 1 1 3 6\r\n3 6 2 4 6 2 5 5 5 4 6 1 3 6 3 6 2 6 3 6 1 1 1 1 1 1 1 3 6 2 5 5\r\n5 4 6 3 6 2 5 6 3 6 1 1 1 1 3 6 1 1 1 1 1 1 2 4 6 1 2 5 6 3 6 1\r\n1 2 4 6 2 6 3 6 1 2 5 5 5 5 4 6 2 4 6 1 3 6 2 4 6 3 6 2 6 3 6 1\r\n1 1 1 1 3 6 2 4 6 1 3 6 1 1 1 3 6 2 5 4 6 1 3 6 1 1 3 6 1 3 6 1\r\n2 4 6 1 2 5 5 5 4 6 1 3 6 1 2 4 6 2 4 6 1 2 5 5 5 5 6 3 6 1 1 1\r\n4 6 1 1 2 4 6 3 6 2 5 6 3 6 1 2 5 5 4 6 1 4 6 1 1 1 3 6 1 2 5 4\r\n6 3 6 2 5 6 3 6 1 1 2 5 5 4 6 2 5 5 5 5 5 5 5 5 6 4 6 1 1 4 6 1\r\n1 2 5 4 6 2 4 6 2 5 4 6 2 4 6 3 6 2 5 6 4 6 1 1 3 6 2 5 4 6 1 3\r\n6 2 5 5 5 4 6 1 3 6 1 4 6 1 1 2 ", 
                    "name": "stdout", 
                    "output_type": "stream"
                }
            ], 
            "execution_count": null, 
            "source": "alea('data/alea.txt', 400)\n!cat data/alea.txt", 
            "metadata": {
                "dicho": {
                    "celltype": "normal", 
                    "readonly": true
                }, 
                "deletable": false
            }
        }, 
        {
            "source": "**Remarque :** \n\nL'observation de la s\u00e9rie obtenue ci-dessus permet de douter fortement de la qualit\u00e9 de ce g\u00e9n\u00e9rateur pseudo-al\u00e9atoire. ", 
            "cell_type": "markdown", 
            "metadata": {
                "dicho": {
                    "celltype": "normal", 
                    "readonly": true
                }, 
                "deletable": false
            }
        }, 
        {
            "source": "## Quelques statistiques sur les mots de la langue fran\u00e7aise", 
            "cell_type": "markdown", 
            "metadata": {
                "dicho": {
                    "celltype": "normal", 
                    "readonly": true
                }, 
                "deletable": false
            }
        }, 
        {
            "source": "> ", 
            "cell_type": "markdown", 
            "metadata": {
                "dicho": {
                    "celltype": "normal", 
                    "readonly": false
                }, 
                "deletable": false
            }
        }, 
        {
            "source": "### Question 3\n\nLa fonction `stats` ci-dessous lit le fichier `data/french.txt` afin de produire quelques statistiques sur la liste de mots qu'il contient.\n\nCoder la fonction `stats`.\n\n> Le fichier `data/french.txt` ne doit \u00eatre parcouru qu'une seule fois. ", 
            "cell_type": "markdown", 
            "metadata": {
                "dicho": {
                    "celltype": "question", 
                    "readonly": true
                }, 
                "deletable": false
            }
        }, 
        {
            "cell_type": "code", 
            "execution_count": null, 
            "source": "def stats():\n    \"\"\" Lit le fichier data/french.txt\n        et affiche les informations suivantes :\n        \n        * nombre de mots\n        * nombre de mots commen\u00e7ant par 'e',\n          \u00e9ventuellement accentu\u00e9\n        * mots les plus longs\n        * proportion de mots contenant un 'e',\n          \u00e9ventuellement accentu\u00e9\n        * Nombre de mots se terminant par 'age'\n    \"\"\"\n    ### \u00c0 COMPL\u00c9TER", 
            "outputs": [], 
            "metadata": {
                "dicho": {
                    "celltype": "answer"
                }, 
                "deletable": false
            }
        }, 
        {
            "source": "## Mise en forme d'un texte", 
            "cell_type": "markdown", 
            "metadata": {
                "dicho": {
                    "celltype": "normal", 
                    "readonly": true
                }, 
                "deletable": false
            }
        }, 
        {
            "source": "> ", 
            "cell_type": "markdown", 
            "metadata": {
                "dicho": {
                    "celltype": "normal", 
                    "readonly": false
                }, 
                "deletable": false
            }
        }, 
        {
            "source": "### Question 4\n\nLe texte contenu dans le fichier `data/tierslivre.txt` est compos\u00e9 de paragraphes, s\u00e9par\u00e9s entre eux par deux sauts de ligne.\nChacun des paragraphes a \u00e9t\u00e9 saisi au kilom\u00e8tre, c'est-\u00e0-dire sans saut de lignes.\nOn souhaite maintenant reformater le texte de sorte que chaque ligne de d\u00e9passe pas 60 caract\u00e8res.\nDe plus, on ne souhaite pas couper les mots.\nLe d\u00e9coupage en paragraphes doit \u00e9galement \u00eatre conserv\u00e9.\n\nCoder la fonction `miseEnForme` qui permet de r\u00e9aliser cette t\u00e2che.", 
            "cell_type": "markdown", 
            "metadata": {
                "dicho": {
                    "celltype": "question", 
                    "readonly": true
                }, 
                "deletable": false
            }
        }, 
        {
            "cell_type": "code", 
            "execution_count": null, 
            "source": "def miseEnForme(nomFichier1, nomFichier2):\n    \"\"\" Lit le fichier de texte `nomFichier1` et cr\u00e9e une version\n        `nomFichier2` dans laquelle les lignes ne d\u00e9passent pas\n        60 caract\u00e8res.\n    \"\"\"\n    ### \u00c0 COMPL\u00c9TER", 
            "outputs": [], 
            "metadata": {
                "dicho": {
                    "celltype": "answer"
                }, 
                "deletable": false
            }
        }, 
        {
            "cell_type": "code", 
            "outputs": [], 
            "execution_count": null, 
            "source": "miseEnForme('data/tierslivre.txt', 'data/tierslivre2.txt')", 
            "metadata": {
                "dicho": {
                    "celltype": "normal", 
                    "readonly": true
                }, 
                "deletable": false
            }
        }, 
        {
            "source": "## Loi de Benford", 
            "cell_type": "markdown", 
            "metadata": {
                "dicho": {
                    "celltype": "normal", 
                    "readonly": true
                }, 
                "deletable": false
            }
        }, 
        {
            "source": "Quand on \u00e9tudie un ensemble de donn\u00e9es, on pourrait s'attendre \u00e0 voir les chiffres 1 \u00e0 9 appara\u00eetre \u00e0 peu pr\u00e8s aussi fr\u00e9quemment sur le premier chiffre d'un nombre. Or, contrairement \u00e0 l'intuition, ce n'est pas ce que l'on observe exp\u00e9rimentalement :\nla distribution des chiffres suit la [*loi de Benford* ][].\n\n[*loi de Benford* ]:https://fr.wikipedia.org/wiki/Loi_de_Benford\n\nLe fichier `data/communes-francaises.csv` contient des donn\u00e9es relatives aux communes francaises. Chaque ligne du fichier donne des informations pour une commune. Les informations sont s\u00e9par\u00e9es entre elles par le caract\u00e8re `','`. La premi\u00e8re ligne du fichier pr\u00e9cise la signification de chacune des colonnes.", 
            "cell_type": "markdown", 
            "metadata": {
                "dicho": {
                    "celltype": "normal", 
                    "readonly": true
                }, 
                "deletable": false
            }
        }, 
        {
            "cell_type": "code", 
            "outputs": [
                {
                    "text": " nom                  surf_m2\n Brasles              7453763.000000000000000\n \u00c9tampes-sur-Marne    2207607.000000000000000\n Brenelle             4352642.000000000000000\n Belleu               4537814.000000000000000\n Les Vigneaux         16155360.000000000000000\n Dhuizel              6846127.000000000000000\n Verdilly             5092646.000000000000000\n Gland                5618063.000000000000000\n Cuffies              5047339.000000000000000\n", 
                    "name": "stdout", 
                    "output_type": "stream"
                }
            ], 
            "execution_count": null, 
            "source": "flux = open('data/communes-francaises.csv', 'r')\nn = 0\nfor ligne in flux:\n    n = n + 1\n    colonnes = ligne.split(',')\n    print(colonnes[1].ljust(20), colonnes[3])\n    if n == 10:\n        break\nflux.close()", 
            "metadata": {
                "dicho": {
                    "celltype": "normal", 
                    "readonly": true
                }, 
                "deletable": false
            }
        }, 
        {
            "source": "> ", 
            "cell_type": "markdown", 
            "metadata": {
                "dicho": {
                    "celltype": "normal", 
                    "readonly": false
                }, 
                "deletable": false
            }
        }, 
        {
            "source": "### Question 5\n\nPour chacun des chiffres de 1 \u00e0 9, calculer le nombre de fois o\u00f9 ce chiffre apparait \u00e0 gauche de l'\u00e9criture d\u00e9cimale du nombre donnant la surface des communes fran\u00e7aises.\n\nComparer les proportions obtenues avec la loi propos\u00e9e par [*Benford*][].\n\n[*Benford*]:https://fr.wikipedia.org/wiki/Loi_de_Benford", 
            "cell_type": "markdown", 
            "metadata": {
                "dicho": {
                    "celltype": "question", 
                    "readonly": true
                }, 
                "deletable": false
            }
        }, 
        {
            "cell_type": "code", 
            "execution_count": null, 
            "source": "", 
            "outputs": [], 
            "metadata": {
                "dicho": {
                    "celltype": "answer"
                }, 
                "deletable": false
            }
        }, 
        {
            "source": "> ", 
            "cell_type": "markdown", 
            "metadata": {
                "dicho": {
                    "celltype": "normal", 
                    "readonly": false
                }, 
                "deletable": false
            }
        }
    ], 
    "nbformat": 4, 
    "metadata": {
        "dicho": {
            "title": "Manipulation de texte", 
            "author": "Denis Pinsard", 
            "license": true, 
            "description": "Lire et cr\u00e9er des fichiers de texte avec un script Python.", 
            "updated": "2015-12-14", 
            "readonly": true, 
            "uri": "http://dichotomies.fr/2015/informatique/info1/travaux-pratiques/manipulation-de-texte/", 
            "subtitle": "", 
            "logo": true, 
            "contact": "(pr\u00e9nom).(nom)@dichotomies.fr", 
            "created": "2015-12-14", 
            "dockey": "OOX914"
        }, 
        "language_info": {
            "mimetype": "text/x-python", 
            "codemirror_mode": {
                "name": "ipython", 
                "version": 3
            }, 
            "file_extension": ".py", 
            "version": "3.3.5", 
            "nbconvert_exporter": "python", 
            "pygments_lexer": "ipython3", 
            "name": "python"
        }, 
        "kernelspec": {
            "name": "python3", 
            "display_name": "Python 3", 
            "language": "python"
        }
    }
}