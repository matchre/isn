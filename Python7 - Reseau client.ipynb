{
 "metadata": {
  "name": "",
  "signature": "sha256:68f1dc05caf492b171c9be6ac6da8c66c1297392809b3efb950c6c48e23cddd0"
 },
 "nbformat": 3,
 "nbformat_minor": 0,
 "worksheets": [
  {
   "cells": [
    {
     "cell_type": "heading",
     "level": 1,
     "metadata": {},
     "source": [
      "Le r\u00e9seau en Python c\u00f4t\u00e9 client"
     ]
    },
    {
     "cell_type": "markdown",
     "metadata": {},
     "source": [
      "Avant d'ouvrir ce classeur, vous devrez avoir trait\u00e9 le classeur **Python 7 - D\u00e9couverte du r\u00e9seau et serveur** jusqu'\u00e0 la partie IV."
     ]
    },
    {
     "cell_type": "markdown",
     "metadata": {},
     "source": [
      "Voici un programme client basique \u00e9crit en Python. On utilise toujours la librairie ***socket*** qui g\u00e8re la communication r\u00e9seau en Python.\n",
      "\n",
      "Ex\u00e9cutez la cellule suivante cellule apr\u00e8s avoir lanc\u00e9 le serveur sur le classeur **Python 7 - D\u00e9couverte du r\u00e9seau et serveur**, puis rendez-vous dans l'onglet serveur pour initier la discussion.\n",
      "\n",
      "Remarquez que quand le client tourne, le kernel python est monopolis\u00e9 et ne permet plus l'ex\u00e9cution d'une autre cellule, d'o\u00f9 la n\u00e9cessit\u00e9 d'avoir deux classeurs distincts.\n",
      "\n",
      "N\u00e9anmoins, vous pourrez compl\u00e9ter la section suivante sur la compr\u00e9hension du programme et r\u00e9pondre aux questions pos\u00e9es pendant que le client tourne."
     ]
    },
    {
     "cell_type": "heading",
     "level": 2,
     "metadata": {},
     "source": [
      "Le programme client"
     ]
    },
    {
     "cell_type": "code",
     "collapsed": false,
     "input": [
      "from socket import *\n",
      "\n",
      "SERVEUR , PORT = '127.0.0.1' , 50000\n",
      "liaison = socket(AF_INET, SOCK_STREAM)\n",
      "\n",
      "try:\n",
      "    liaison.connect((SERVEUR, PORT))\n",
      "    message=\"\"\n",
      "except error:\n",
      "    print(\"La connexion a \u00e9chou\u00e9.\")\n",
      "    message=\"FIN\"\n",
      "    \n",
      "# serveur et service\n",
      "while message.upper() != \"FIN\" :\n",
      "    message = liaison.recv(1024).decode(\"utf8\")\n",
      "    print(\"serveur >\", message)\n",
      "    if message.upper() != \"FIN\" :\n",
      "        message = input(\"moi > \")\n",
      "        liaison.send(message.encode(\"utf8\"))\n",
      "        \n",
      "print(\"Connexion termin\u00e9e.\" )\n",
      "liaison.close()"
     ],
     "language": "python",
     "metadata": {},
     "outputs": []
    },
    {
     "cell_type": "heading",
     "level": 2,
     "metadata": {},
     "source": [
      "Compr\u00e9hesion du programme client"
     ]
    },
    {
     "cell_type": "markdown",
     "metadata": {},
     "source": [
      "1) Que se passe t-il si vous lancez le client ***avant*** d'avoir lanc\u00e9 le serveur ?\n",
      "\n",
      "Votre r\u00e9ponse ..."
     ]
    },
    {
     "cell_type": "markdown",
     "metadata": {},
     "source": [
      "2) Quelle commande est responsable sur le client de l\u2019envoi du message au serveur ?\n",
      "\n",
      "Votre r\u00e9ponse ..."
     ]
    },
    {
     "cell_type": "markdown",
     "metadata": {},
     "source": [
      "3) \u00c9crire en langage naturel l\u2019algorithme correspondant au programme client\n",
      "\n",
      "Votre r\u00e9ponse ..."
     ]
    },
    {
     "cell_type": "heading",
     "level": 1,
     "metadata": {},
     "source": [
      "A vous de jouer : Jeu du juste prix en r\u00e9seau"
     ]
    },
    {
     "cell_type": "markdown",
     "metadata": {},
     "source": [
      "Ecrire ci-dessous le code client du jeu du juste prix"
     ]
    },
    {
     "cell_type": "code",
     "collapsed": false,
     "input": [
      "# Votre programme ici..."
     ],
     "language": "python",
     "metadata": {},
     "outputs": []
    },
    {
     "cell_type": "code",
     "collapsed": false,
     "input": [],
     "language": "python",
     "metadata": {},
     "outputs": []
    }
   ],
   "metadata": {}
  }
 ]
}