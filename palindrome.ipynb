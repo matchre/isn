{
 "cells": [
  {
   "cell_type": "markdown",
   "metadata": {},
   "source": [
    "Palindromes\n",
    "===========\n",
    "\n",
    "Réouvrir la page principale\n",
    "---------------------------\n",
    "\n",
    "[Cliquer ici](../main.ipynb)\n",
    "\n",
    "\n",
    "À vous de jouer : tester si un mot est un palindrome\n",
    "----------------------------------------------------\n",
    "\n",
    "### Version 1 : une idée simple\n",
    "\n",
    "Une première idée consiste à comparer la première lettre et la dernière, puis la seconde et l'avant-dernière, ... etc. Si deux lettres différent à un moment, nous n'avons pas un palindromme. Nous obtenons le code ci-après."
   ]
  },
  {
   "cell_type": "code",
   "execution_count": 2,
   "metadata": {
    "collapsed": false
   },
   "outputs": [
    {
     "name": "stdout",
     "output_type": "stream",
     "text": [
      "ressasser est un palindrome.\n"
     ]
    }
   ],
   "source": [
    "mot = \"ressasser\"\n",
    "\n",
    "taille            = len(mot)\n",
    "est_un_palindrome = True\n",
    "\n",
    "# Inutile de tester deux fois les mêmes lettres.\n",
    "for i in range(taille // 2):\n",
    "# La 1ère lettre ayant pour position 0, la dernière aura la position\n",
    "# (taille - 1) et non la position taille.\n",
    "    if mot[i] != mot[taille - 1 - i]:\n",
    "        est_un_palindrome = False\n",
    "\n",
    "if est_un_palindrome:\n",
    "    print(mot, \"est un palindrome.\")\n",
    "else:\n",
    "    print(mot, \"n'est pas un palindrome.\")"
   ]
  },
  {
   "cell_type": "markdown",
   "metadata": {},
   "source": [
    "### Version 1' : une idée simple un peu améliorée\n",
    "\n",
    "Si `mot` est une variable de type `str`, alors `mot[-1]`, `mot[-2]`, ... etc pointent respectivement vers le dernier caractère, l'avant-dernier, ... etc. Ceci permet de faire une première simplification du code. "
   ]
  },
  {
   "cell_type": "code",
   "execution_count": 3,
   "metadata": {
    "collapsed": false
   },
   "outputs": [
    {
     "name": "stdout",
     "output_type": "stream",
     "text": [
      "ressasser est un palindrome.\n"
     ]
    }
   ],
   "source": [
    "mot = \"ressasser\"\n",
    "\n",
    "taille            = len(mot)\n",
    "est_un_palindrome = True\n",
    "\n",
    "for i in range(taille // 2):\n",
    "    if mot[i] != mot[-i - 1]:\n",
    "        est_un_palindrome = False\n",
    "\n",
    "if est_un_palindrome:\n",
    "    print(mot, \"est un palindrome.\")\n",
    "else:\n",
    "    print(mot, \"n'est pas un palindrome.\")"
   ]
  },
  {
   "cell_type": "markdown",
   "metadata": {},
   "source": [
    "### Version 1'' : une idée simple moins gourmande en tests\n",
    "\n",
    "Dans notre code, nous continuons à tester les lettres même si à un moment nous avons repéré deux lettres différentes. Il serait bien de ne pas faire des tests inutiles. Le mot `break` permettant de sortir brutalement d'une boucle `for`, on obtient les lignes de code suivantes.  Notez au passage l'utilisation de la méthode `format` utilisable sur toute variable de type `str`."
   ]
  },
  {
   "cell_type": "code",
   "execution_count": 4,
   "metadata": {
    "collapsed": false
   },
   "outputs": [
    {
     "name": "stdout",
     "output_type": "stream",
     "text": [
      "'ressasser' est un palindrome.\n"
     ]
    }
   ],
   "source": [
    "mot = \"ressasser\"\n",
    "\n",
    "taille            = len(mot)\n",
    "est_un_palindrome = True\n",
    "\n",
    "for i in range(taille // 2):\n",
    "    if mot[i] != mot[-i - 1]:\n",
    "        est_un_palindrome = False\n",
    "\n",
    "# On sort de la boucle dès que deux lettres ne concordent pas.\n",
    "        break\n",
    "\n",
    "if est_un_palindrome:\n",
    "    rep = \"est\"\n",
    "else:\n",
    "    rep = \"n'est pas\"\n",
    "\n",
    "# Nous utilisons un moyen rapide de créer des phrases dont\n",
    "# certains morceaux sont modifiables. Ci-dessous, {0} sera\n",
    "# remplacé par la version texte de la 1ère variable employée\n",
    "# dans la méthode `format`, à savoir `mot`. Il en va de même\n",
    "# pour {1} avec `rep`.\n",
    "print(\"'{0}' {1} un palindrome.\".format(mot, rep))"
   ]
  },
  {
   "cell_type": "markdown",
   "metadata": {},
   "source": [
    "**Avertissement !** Comme l'usage de `break` fait sortir brutalement de la boucle `for`, ceci peut compliquer la lecture du code. Certaines personnes parlent même de mauvaise pratique. Ceci étant dit, ici les lignes concernées étant peu nombreuses, il ne semble pas dangereux d'utiliser un `break`.\n",
    "\n",
    "\n",
    "### Version 2 : construction du mot inverse\n",
    "\n",
    "Une autre idée simple est de construire le mot \"inverse\" du mot à tester puis ensuite de voir si l'on obtient deux fois le même mot. Contrairement aux versions 1 qui travaillent sur une seule chaîne sans en construire de nouvelle, le code suivant construit une nouvelle chaîne supplémentaire. Ceci n'est pas gênant dans notre contexte mais qu'en serait-il dans un environnement embarqué où la place mémoire est limitée ?"
   ]
  },
  {
   "cell_type": "code",
   "execution_count": 5,
   "metadata": {
    "collapsed": false
   },
   "outputs": [
    {
     "name": "stdout",
     "output_type": "stream",
     "text": [
      "'ressasser' est un palindrome.\n"
     ]
    }
   ],
   "source": [
    "mot = \"ressasser\"\n",
    "\n",
    "mot_inverse = \"\"\n",
    "\n",
    "for lettre in mot:\n",
    "    mot_inverse = lettre + mot_inverse\n",
    "\n",
    "if mot == mot_inverse:\n",
    "    rep = \"est\"\n",
    "else:\n",
    "    rep = \"n'est pas\"\n",
    "\n",
    "print(\"'{0}' {1} un palindrome.\".format(mot, rep))"
   ]
  },
  {
   "cell_type": "markdown",
   "metadata": {},
   "source": [
    "### Version 3 : Python entre en action\n",
    "\n",
    "Ci-dessous, `mot[::1]` produit une chaîne de caractères obtenue en parcourant `mot` d'une lettre en une lettre de la gauche vers la droite, tandis que `mot[::-1]` produit une chaîne de caractères obtenue en parcourant `mot` d'une lettre en une lettre mais de la droite vers la gauche, ce qui dans ce second cas revient à lire le mot de droite à gauche. On obtient un code très synthétique ! Ceci étant indiqué, il faut prendre garde aux problèmes de performance et de mémoire utilisée quand on utilise ce type de \"pythonneries\". Dans le code ci-après, on construit deux nouvelles chaînes de caractères `mot[::1]` et `mot[::-1]`."
   ]
  },
  {
   "cell_type": "code",
   "execution_count": 6,
   "metadata": {
    "collapsed": false
   },
   "outputs": [
    {
     "name": "stdout",
     "output_type": "stream",
     "text": [
      "'ressasser' est un palindrome.\n"
     ]
    }
   ],
   "source": [
    "mot = \"ressasser\"\n",
    "\n",
    "if mot[::1] == mot[::-1]:\n",
    "    rep = \"est\"\n",
    "else:\n",
    "    rep = \"n'est pas\"\n",
    "\n",
    "print(\"'{0}' {1} un palindrome.\".format(mot, rep))"
   ]
  },
  {
   "cell_type": "markdown",
   "metadata": {},
   "source": [
    "À vous de jouer : une liste de palindromes extraites d'une liste de mots\n",
    "------------------------------------------------------------------------\n",
    "\n",
    "### Version 1 : rien de bien compliqué\n",
    "\n",
    "La seule nouveauté ici est l'utilisation de liste de mots et non d'un seul mot. Dès lors que l'on sait que `for ... in une_liste` permet de parcourir un à un les élements d'une liste `une_liste`, le code qui suit est rapide à comprendre *(de nouveau nous utilisons la possibilité d'écrire une liste Python sur plusieurs lignes)*."
   ]
  },
  {
   "cell_type": "code",
   "execution_count": 7,
   "metadata": {
    "collapsed": false
   },
   "outputs": [
    {
     "name": "stdout",
     "output_type": "stream",
     "text": [
      "'abba' est un palindrome.\n",
      "'formation' n'est pas un palindrome.\n",
      "'ressasser' est un palindrome.\n",
      "'xyZxyZxyZxyZxyZxyZ' n'est pas un palindrome.\n"
     ]
    }
   ],
   "source": [
    "des_mots = [\n",
    "    \"abba\", \n",
    "    \"formation\",\n",
    "    \"ressasser\",\n",
    "    \"xyZxyZxyZxyZxyZxyZ\"\n",
    "]\n",
    "\n",
    "for mot in des_mots:\n",
    "    taille            = len(mot)\n",
    "    est_un_palindrome = True\n",
    "\n",
    "    for i in range(taille // 2):\n",
    "        if mot[i] != mot[-i - 1]:\n",
    "            est_un_palindrome = False\n",
    "\n",
    "    # On sort de la boucle qui contient directement le break\n",
    "    # suivant, ici c'est la boucle donnant les i, et non celle\n",
    "    # donnant les mots.\n",
    "            break\n",
    "\n",
    "    if est_un_palindrome:\n",
    "        rep = \"est\"\n",
    "    else:\n",
    "        rep = \"n'est pas\"\n",
    "\n",
    "    print(\"'{0}' {1} un palindrome.\".format(mot, rep))"
   ]
  },
  {
   "cell_type": "markdown",
   "metadata": {},
   "source": [
    "### Version 2 : avec une fonction, c'est quand même mieux !\n",
    "\n",
    "Nous devons améliorer notre code. L'utilisation d'une fonction s'impose."
   ]
  },
  {
   "cell_type": "code",
   "execution_count": 8,
   "metadata": {
    "collapsed": false
   },
   "outputs": [
    {
     "name": "stdout",
     "output_type": "stream",
     "text": [
      "'abba' est un palindrome.\n",
      "'formation' n'est pas un palindrome.\n",
      "'ressasser' est un palindrome.\n",
      "'xyZxyZxyZxyZxyZxyZ' n'est pas un palindrome.\n"
     ]
    }
   ],
   "source": [
    "# -------------------- #\n",
    "# -- NOTRE FONCTION -- #\n",
    "# -------------------- #\n",
    "\n",
    "def teste_palindromme(mot):\n",
    "    \"\"\"\n",
    "Étant donné un mot, cette fonction affichera si ce mot est ou non un\n",
    "palindrome.\n",
    "\n",
    "Avertissement ! Les tirets ne sont pas gérés, ni les lettres accentuées.\n",
    "    \"\"\"\n",
    "    taille            = len(mot)\n",
    "    est_un_palindrome = True\n",
    "\n",
    "    for i in range(taille // 2):\n",
    "        if mot[i] != mot[-i - 1]:\n",
    "            est_un_palindrome = False\n",
    "            break\n",
    "\n",
    "    if est_un_palindrome:\n",
    "        rep = \"est\"\n",
    "    else:\n",
    "        rep = \"n'est pas\"\n",
    "\n",
    "    print(\"'{0}' {1} un palindrome.\".format(mot, rep))\n",
    "\n",
    "\n",
    "# ----------------- #\n",
    "# -- APPLICATION -- #\n",
    "# ----------------- #\n",
    "\n",
    "des_mots = [\n",
    "    \"abba\", \n",
    "    \"formation\",\n",
    "    \"ressasser\",\n",
    "    \"xyZxyZxyZxyZxyZxyZ\"\n",
    "]\n",
    "\n",
    "for mot in des_mots:\n",
    "    teste_palindromme(mot)"
   ]
  },
  {
   "cell_type": "markdown",
   "metadata": {},
   "source": [
    "À vous de jouer : une première liste de palindromes sans accent, ni traits d'union\n",
    "----------------------------------------------------------------------------------\n",
    "\n",
    "Dans la mesure où `for ... in mon_fichier` permet de parcourir un fichier ligne par ligne en obtenant des textes se finissant tous par un retour à la ligne, il est assez immédiat de comprendre le code qui suit.  "
   ]
  },
  {
   "cell_type": "code",
   "execution_count": 9,
   "metadata": {
    "collapsed": false
   },
   "outputs": [
    {
     "name": "stdout",
     "output_type": "stream",
     "text": [
      "['a', 'à', 'alla', 'ana', 'ara', 'aviva', 'axa', 'bob', 'cc', 'elle', 'erre', 'essayasse', 'esse', 'été', 'étêté', 'eue', 'gag', 'ici', 'kayak', 'lebel', 'nanan', 'non', 'pep', 'pop', 'radar', 'ressasser', 'retâter', 'rotor', 'sagas', 'salas', 'sanas', 'sapas', 'sas', 'sassas', 'selles', 'semâmes', 'sénés', 'sennes', 'serres', 'ses', 'sexes', 'shahs', 'sis', 'snobons', 'solos', 'sonos', 'sus', 'tâtât', 'tôt', 'tut', 'tût', 'y']\n"
     ]
    }
   ],
   "source": [
    "# ---------------------------------- #\n",
    "# -- NOTRE FONCTION \"PYTHONIENNE\" -- #\n",
    "# ---------------------------------- #\n",
    "\n",
    "def est_un_palindromme(mot):\n",
    "    \"\"\"\n",
    "Étant donné un mot, cette fonction renverra True si ce mot est un\n",
    "palindrome, et False sinon.\n",
    "\n",
    "Avertissement ! Les tirets ne sont pas gérés, ni les lettres accentuées.\n",
    "    \"\"\"\n",
    "    return mot[::1] == mot[::-1]\n",
    "\n",
    "\n",
    "# ----------------- #\n",
    "# -- APPLICATION -- #\n",
    "# ----------------- #\n",
    "\n",
    "palindromes = []\n",
    "\n",
    "with open(\"motsfrancais_frgut.txt\", encoding=\"iso-8859-1\") as fichier:\n",
    "    for ligne in fichier:\n",
    "        # Nettoyage entre autres choses du retour à la ligne final.\n",
    "        mot = ligne.strip()\n",
    "        \n",
    "        # On met tout en minuscule.\n",
    "        mot = mot.lower()   \n",
    "        \n",
    "        if est_un_palindromme(mot):\n",
    "            # Pour les variables de type list, la méthode append\n",
    "            # sert à ajouter un nouvel élément à une liste.\n",
    "            palindromes.append(mot)\n",
    "\n",
    "print(palindromes)"
   ]
  },
  {
   "cell_type": "markdown",
   "metadata": {},
   "source": [
    "Pour les plus rapides : une seconde liste de palindromes avec éventuellement des accents et/ou des traits d'union\n",
    "-----------------------------------------------------------------------------------------------------------------\n",
    "\n",
    "Redonnons le code permettant d'obtenir tous les caractères spéciaux présents dans notre liste de mots."
   ]
  },
  {
   "cell_type": "code",
   "execution_count": 10,
   "metadata": {
    "collapsed": false
   },
   "outputs": [
    {
     "name": "stdout",
     "output_type": "stream",
     "text": [
      "-àâäçèéêëîïôöùûü\n"
     ]
    }
   ],
   "source": [
    "lettres_trouvees = set()\n",
    "\n",
    "with open(\"motsfrancais_frgut.txt\", encoding=\"iso-8859-1\") as fichier:\n",
    "    for ligne in fichier:\n",
    "        mot = ligne.strip()\n",
    "        mot = mot.lower()\n",
    "\n",
    "        lettres_trouvees = lettres_trouvees | set(mot)\n",
    "\n",
    "alphabet = set(\"abcdefghijklmnopqrstuvwxyz\")\n",
    "\n",
    "lettres_speciales = lettres_trouvees - alphabet\n",
    "\n",
    "lettres_speciales_ordonnees = sorted(list(lettres_speciales))\n",
    "\n",
    "print(\"\".join(lettres_speciales_ordonnees))"
   ]
  },
  {
   "cell_type": "markdown",
   "metadata": {},
   "source": [
    "### Version 1 : une idée simple mais fonctionnelle\n",
    "\n",
    "Il suffit d'ajouter une nouvelle fonction dédiée au \"nettoyage\" d'un mot. Voici une première proposition de code. Nous verrons juste après une amélioration, qui bien que technique, facilite énormément la vie du codeur."
   ]
  },
  {
   "cell_type": "code",
   "execution_count": 11,
   "metadata": {
    "collapsed": false
   },
   "outputs": [
    {
     "name": "stdout",
     "output_type": "stream",
     "text": [
      "['a', 'à', 'alla', 'ana', 'ara', 'aviva', 'axa', 'bob', 'cc', 'elle', 'ème', 'ère', 'erre', 'erré', 'essayasse', 'esse', 'été', 'étête', 'étêté', 'eue', 'gag', 'ici', 'kayak', 'lebel', 'nanan', 'non', 'pep', 'pop', 'radar', 'réer', 'réifier', 'ressasser', 'retâter', 'rêver', 'rotor', 'sagas', 'salas', 'sanas', 'sapas', 'sas', 'sassas', 'selles', 'sellés', 'semâmes', 'semés', 'sèmes', 'sénés', 'sennes', 'serres', 'serrés', 'ses', 'sèves', 'sexes', 'shahs', 'sis', 'snobons', 'solos', 'sonos', 'sus', 'talât', 'tallât', 'tannât', 'tapât', 'tarât', 'tassât', 'tâtât', 'taxât', 'tôt', 'tut', 'tût', 'y']\n"
     ]
    }
   ],
   "source": [
    "# ------------------- #\n",
    "# -- NOS FONCTIONS -- #\n",
    "# ------------------- #\n",
    "\n",
    "def nettoie_mot(mot):\n",
    "    \"\"\"\n",
    "Cette fonction \"nettoie\" un mot en \"retirant\" ses accents et en \n",
    "supprimant les tirets.\n",
    "    \"\"\"\n",
    "    mot = mot.lower()\n",
    "\n",
    "    mot_propre = \"\"\n",
    "    \n",
    "    for char in mot:\n",
    "        if char == \"-\":\n",
    "            char = \"\"\n",
    "        elif char in \"àâä\":\n",
    "            char = \"a\"\n",
    "        elif char == \"ç\":\n",
    "            char = \"c\"\n",
    "        elif char in \"èéêë\":\n",
    "            char = \"e\"\n",
    "        elif char in \"îï\":\n",
    "            char = \"i\"\n",
    "        elif char in \"ôö\":\n",
    "            char = \"o\"\n",
    "        elif char in \"ùûü\":\n",
    "            char = \"u\"\n",
    "        \n",
    "        mot_propre += char\n",
    "        \n",
    "    return mot_propre\n",
    "\n",
    "\n",
    "def est_un_palindromme(mot):\n",
    "    \"\"\"\n",
    "Étant donné un mot, cette fonction renverra True si ce mot est un\n",
    "palindrome, et False sinon. Les caractères spéciaux et les tirets\n",
    "sont gérés.\n",
    "    \"\"\"\n",
    "    mot = nettoie_mot(mot)   \n",
    "\n",
    "    return mot[::1] == mot[::-1]\n",
    "\n",
    "\n",
    "# ----------------- #\n",
    "# -- APPLICATION -- #\n",
    "# ----------------- #\n",
    "\n",
    "palindromes = []\n",
    "\n",
    "with open(\"motsfrancais_frgut.txt\", encoding=\"iso-8859-1\") as fichier:\n",
    "    for ligne in fichier:\n",
    "        mot = ligne.strip()\n",
    "\n",
    "        if est_un_palindromme(mot):\n",
    "            palindromes.append(mot)\n",
    "\n",
    "print(palindromes)"
   ]
  },
  {
   "cell_type": "markdown",
   "metadata": {},
   "source": [
    "### Version 2 : Python, flemmardise et efficacité\n",
    "\n",
    "Dans le code qui suit nous commençons par définir rapidement un dictionnaire associant un caractère de remplacement, éventuellement vide, à un texte contenant chacun des caractères qui seront à remplacer par le dit caractère de remplacement.\n",
    "Nous fabriquons ensuite un autre dictionnaire qui pour chaque caractère associe son remplacement. Notons que ce second dictionnaire aurait été un peu long à taper directement. "
   ]
  },
  {
   "cell_type": "code",
   "execution_count": 12,
   "metadata": {
    "collapsed": false
   },
   "outputs": [
    {
     "name": "stdout",
     "output_type": "stream",
     "text": [
      "['a', 'à', 'alla', 'ana', 'ara', 'aviva', 'axa', 'bob', 'cc', 'elle', 'ème', 'ère', 'erre', 'erré', 'essayasse', 'esse', 'été', 'étête', 'étêté', 'eue', 'gag', 'ici', 'kayak', 'lebel', 'nanan', 'non', 'pep', 'pop', 'radar', 'réer', 'réifier', 'ressasser', 'retâter', 'rêver', 'rotor', 'sagas', 'salas', 'sanas', 'sapas', 'sas', 'sassas', 'selles', 'sellés', 'semâmes', 'semés', 'sèmes', 'sénés', 'sennes', 'serres', 'serrés', 'ses', 'sèves', 'sexes', 'shahs', 'sis', 'snobons', 'solos', 'sonos', 'sus', 'talât', 'tallât', 'tannât', 'tapât', 'tarât', 'tassât', 'tâtât', 'taxât', 'tôt', 'tut', 'tût', 'y']\n"
     ]
    }
   ],
   "source": [
    "# ------------------- #\n",
    "# -- NOS FONCTIONS -- #\n",
    "# ------------------- #\n",
    "\n",
    "ASCII_VERS_SPECIAL = {\n",
    "    '': \"-\",\n",
    "    'a':\"àâä\",\n",
    "    'c': \"ç\",\n",
    "    'e': \"èéêë\",\n",
    "    'i': \"îï\",\n",
    "    'o': \"ôö\",\n",
    "    'u': \"ùûü\"\n",
    "}\n",
    "\n",
    "SPECIAL_VERS_ASCII = {}\n",
    "\n",
    "# Parcours des clés et et de leur valeur de ASCII_VERS_SPECIAL.\n",
    "for lettre_ascii, lettres_speciales in ASCII_VERS_SPECIAL.items():\n",
    "    # Parcours supplémentaire des caractères de lettres_speciales. \n",
    "    for une_lettre_speciale in lettres_speciales:\n",
    "        SPECIAL_VERS_ASCII[une_lettre_speciale] = lettre_ascii\n",
    "\n",
    "\n",
    "def nettoie_mot(mot):\n",
    "    \"\"\"\n",
    "Cette fonction \"nettoie\" un mot en \"retirant\" ses accents et en \n",
    "supprimant les tirets.\n",
    "    \"\"\"\n",
    "    global SPECIAL_VERS_ASCII\n",
    "    \n",
    "    mot = mot.lower()\n",
    "\n",
    "    mot_propre = \"\"\n",
    "    \n",
    "    for cara in mot:\n",
    "        if cara in SPECIAL_VERS_ASCII:\n",
    "            mot_propre += SPECIAL_VERS_ASCII[cara]\n",
    "        else:\n",
    "            mot_propre += cara\n",
    "        \n",
    "    return mot_propre\n",
    "\n",
    "\n",
    "def est_un_palindromme(mot):\n",
    "    \"\"\"\n",
    "Étant donné un mot, cette fonction renverra True si ce mot est un\n",
    "palindrome, et False sinon. Les caractères spéciaux et les tirets\n",
    "sont gérés.\n",
    "    \"\"\"\n",
    "    mot = nettoie_mot(mot)   \n",
    "\n",
    "    return mot[::1] == mot[::-1]\n",
    "\n",
    "\n",
    "# ----------------- #\n",
    "# -- APPLICATION -- #\n",
    "# ----------------- #\n",
    "\n",
    "palindromes = []\n",
    "\n",
    "with open(\"motsfrancais_frgut.txt\", encoding=\"iso-8859-1\") as fichier:\n",
    "    for ligne in fichier:\n",
    "        mot = ligne.strip()  \n",
    "        \n",
    "        if est_un_palindromme(mot):\n",
    "            palindromes.append(mot)\n",
    "\n",
    "print(palindromes)"
   ]
  },
  {
   "cell_type": "markdown",
   "metadata": {},
   "source": [
    "Pour les plus rapides (bis) : tester si un texte est un palindrome\n",
    "------------------------------------------------------------------\n",
    "\n",
    "Rappelons que IPython garde en mémoire les actions effectuées au-dessus d'une cellule. Utilisons ce mécanisme pour séparer nos deux codes à venir de la définition ci-dessous de la variable `texte` à tester. Autrement dit, dans tous les codes qui vont suivre `texte` aura la valeur donnée ci-après."
   ]
  },
  {
   "cell_type": "code",
   "execution_count": 13,
   "metadata": {
    "collapsed": true,
    "scrolled": true
   },
   "outputs": [],
   "source": [
    "texte = \"\"\"\n",
    "Trace l'inégal palindrome. Neige. Bagatelle, dira Hercule. Le brut repentir, cet écrit né Perec. \n",
    "L'arc lu pèse trop, lis à vice-versa.\n",
    "\n",
    "Perte. Cerise d'une vérité banale, le Malstrom, Alep, mort édulcoré, crêpe porté de ce désir brisé\n",
    "d'un iota. Livre si aboli, tes sacres ont éreinté, cor cruel, nos albatros. Etre las, autel bâti,\n",
    "miette vice-versa du jeu que fit, nacré, médical, le sélénite relaps, ellipsoïdal.\n",
    "\n",
    "Ivre il bat, la turbine bat, l'isolé me ravale: le verre si obéi du Pernod -- eh, port su ! -- \n",
    "obsédante sonate teintée d'ivresse.\n",
    "\n",
    "Ce rêve se mit -- peste ! -- à blaguer. Beh ! L'art sec n'a si peu qu'algèbre s'élabore de l'or \n",
    "évalué. Idiome étiré, hésite, bâtard replié, l'os nu. Si, à la gêne sècrete-- verbe nul à l'instar \n",
    "de cinq occis--, rets amincis, drailles inégales, il, avatar espacé, caresse ce noir Belzebuth, \n",
    "ô il offensé, tire !\n",
    "\n",
    "L'écho fit (à désert): Salut, sang, robe et été.\n",
    "\n",
    "Fièvres.\n",
    "\n",
    "Adam, rauque; il écrit: Abrupt ogre, eh, cercueil, l'avenir tu, effilé, genial à la rue (murmure sud \n",
    "eu ne tire vaseline séparée; l'épeire gelée rode: Hep, mortel ?) lia ta balafre native.\n",
    "\n",
    "Litige. Regagner (et ne m'...).\n",
    "\n",
    "Ressac. Il frémit, se sape, na ! Eh, cavale! Timide, il nia ce sursaut.\n",
    "\n",
    "Hasard repu, tel, le magicien à morte me lit. Un ignare le rapsode, lacs ému, mixa, mêla:\n",
    "\n",
    "Hep, Oceano Nox, ô, béchamel azur ! Éjaculer ! Topaze !\n",
    "\n",
    "Le cèdre, malabar faible, Arsinoë le macule, mante ivre, glauque, pis, l'air atone (sic). Art \n",
    "sournois: si, médicinale, l'autre glace (Melba ?) l'un ? N'alertai ni pollen (retêter: gercé, \n",
    "repu, denté...) ni tobacco.\n",
    "\n",
    "Tu, désir, brio rimé, eh, prolixe nécrophore, tu ferres l'avenir velu, ocre, cromant-né ?\n",
    "\n",
    "Rage, l'ara. Veuglaire. Sedan, tes elzévirs t'obsèdent. Romain ? Exact. Et Nemrod selle ses \n",
    "Samson !\n",
    "\n",
    "Et nier téocalli ?\n",
    "\n",
    "Cave canem (car ce nu trop minois -- rembuscade d'éruptives à babil -- admonesta, fil accru, \n",
    "Têtebleu ! qu'Ariane évitât net.\n",
    "\n",
    "Attention, ébénier factice, ressorti du réel. Ci-git. Alpaga, gnôme, le héros se lamente, trompé,\n",
    "chocolat: ce laid totem, ord, nil aplati, rituel biscornu; ce sacré bédeau (quel bât ce Jésus!).\n",
    "Palace piégé, Torpédo drue si à fellah tôt ne peut ni le Big à ruer bezef.\n",
    "\n",
    "L'eugéniste en rut consuma d'art son épi d'éolienne ici rot (eh... rut ?). Toi, d'idem gin, \n",
    "élèvera, élu, bifocal, l'ithos et notre pathos à la hauteur de sec salamalec ?\n",
    "\n",
    "Élucider. Ion éclaté: Elle ? Tenu. Etna but (item mal famé), degré vide, julep: macédoine d'axiomes,\n",
    "sac semé d'École, véniel, ah, le verbe enivré (ne sucer ni arreter, eh ça jamais !) lu n'abolira \n",
    "le hasard ?\n",
    "\n",
    "Nu, ottoman à écho, l'art su, oh, tara zéro, belle Deborah, ô, sacre ! Pute, vertubleu, qualité si \n",
    "vertu à la part tarifé (décalitres ?) et nul n'a lu trop s'il séria de ce basilic Iseut.\n",
    "\n",
    "Il à prié bonzes, Samaritain, Tora, vilains monstres (idolâtre DNA en sus) rêvés, évaporés:\n",
    "\n",
    "Arbalète (bètes) en noce du Tell ivre-mort, émeri tu: O, trapu à elfe, il lie l'os, il lia jérémiade\n",
    "lucide. Petard! Rate ta reinette, bigleur cruel, non à ce lot ! Si, farcis-toi dito le coeur !\n",
    "\n",
    "Lied à monstre velu, ange ni bête, sec à pseudo délire: Tsarine (sellée, là), Cid, Arétin, abruti \n",
    "de Ninive, Déjanire. . .\n",
    "\n",
    "Le Phenix, eve de sables, écarté, ne peut égarer racines radiales en mana: l'Oubli, fétiche en argile.\n",
    "\n",
    "Foudre.\n",
    "\n",
    "Prix: Ile de la Gorgone en roc, et, ô, Licorne écartelée,\n",
    "\n",
    "Sirène, rumb à bannir à ma (Red n'osa) niére de mimosa:\n",
    "\n",
    "Paysage d'Ourcq ocre sous ive d'écale;\n",
    "\n",
    "Volcan. Roc: tarot célé du Père.\n",
    "\n",
    "Livres.\n",
    "\n",
    "Silène bavard, replié sur sa nullité (nu à je) belge: ipséité banale. L' (eh, ça !) hydromel à ri, \n",
    "psaltérion. Errée Lorelei...\n",
    "\n",
    "Fi ! Marmelade déviré d'Aladine. D'or, Noël: crèche (l'an ici taverne gelée dès bol...) à santon \n",
    "givré, fi !, culé de l'âne vairon.\n",
    "\n",
    "Lapalisse élu, gnoses sans orgueil (écru, sale, sec). Saluts: angiome. T'es si crâneur !\n",
    "\n",
    ". . .\n",
    "\n",
    "Rue. Narcisse ! Témoignas-tu ! l'ascèse, là, sur ce lieu gros, nasses ongulées...\n",
    "\n",
    "S'il a pal, noria vénale de Lucifer, vignot nasal (obsédée, le genre vaticinal), eh, Cercle, on rode,\n",
    "nid à la dérive, Dèdale (M. . . !) ramifié ?\n",
    "\n",
    "Le rôle erre, noir, et la spirale mord, y hache l'élan abêti: Espiègle (béjaune) Till: un as rusé.\n",
    "\n",
    "Il perdra. Va bene.\n",
    "\n",
    "Lis, servile repu d'électorat, cornac, Lovelace. De visu, oser ?\n",
    "\n",
    "Coq cru, ô, Degas, y'a pas, ô mime, de rein à sonder: à marin nabab, murène risée.\n",
    "\n",
    "Le trace en roc, ilote cornéen.\n",
    "\n",
    "O, grog, ale d'elixir perdu, ô, feligrane! Eh, cité, fil bu !\n",
    "\n",
    "ô ! l'anamnèse, lai d'arsenic, arrérage tué, pénétra ce sel-base de Vexin. Eh, pèlerin à (Je: devin\n",
    "inédit) urbanité radicale (elle s'en ira...), stérile, dodu.\n",
    "\n",
    "Espaces (été biné ? gnaule ?) verts.\n",
    "\n",
    "Nomade, il rue, ocelot. Idiot-sic rafistolé: canon ! Leur cruel gibet te niera, têtard raté, pédicule \n",
    "d'aimé rejailli.\n",
    "\n",
    "Soleil lie, fléau, partout ire (Métro, Mer, Ville...) tu déconnes. Été: bètel à brasero. Pavese versus \n",
    "Neandertal ! O, diserts noms ni à Livarot ni à Tir ! Amassez.\n",
    "\n",
    "N'obéir.\n",
    "\n",
    "Pali, tu es ici: lis abécédaires, lis portulan: l'un te sert-il ? à ce défi rattrapa l'autre ? Vise-t-il \n",
    "auquel but rêvé tu perças ?\n",
    "\n",
    "Oh, arobe d'ellébore, Zarathoustra! L'ohcéan à mot (Toundra ? Sahel ?) à ri: Lob à nul si à ma jachère,\n",
    "terrain récusé, nervi, née brève l'haleine véloce de mes casse-moix à (Déni, ô !) décampé.\n",
    "\n",
    "Lu, je diverge de ma flamme titubante: une telle (étal, ce noir édicule cela mal) ascèse drue tua, \n",
    "ha, l'As.\n",
    "\n",
    "Oh, taper ! Tontes ! Oh, tillac, ô, fibule à reve l'Énigme (d'idiot tu) rhétoricienne.\n",
    "\n",
    "Il, Oedipe, Nostradamus nocturne et, si né Guelfe, zébreur à Gibelin tué (pentothal ?), le faiseur \n",
    "d'ode protège.\n",
    "\n",
    "Ipéca...: lapsus.\n",
    "\n",
    "Eject à bleu qu'aède berça sec. Un roc si bleu ! Tir. ital.: palindrome tôt dialectal. Oc ? Oh, cep\n",
    "mort et né, mal essoré, hélé. Mon gag aplati gicle. Érudit rossérecit, ça freine, benoit, net.\n",
    "\n",
    "Ta tentative en air auquel bète, turc, califat se (nom d'Ali-Baba !) sévit, pure de -- d'ac ? -- \n",
    "submersion importune, crac, menace, vacilla, co-étreinte...\n",
    "\n",
    "Nos masses, elles dorment ? Etc... Axé ni à mort-né des bots. Rivez ! Les Etna de Serial-Guevara \n",
    "l'égarent. N'amorcer coulevrine.\n",
    "\n",
    "Valser. Refuter.\n",
    "\n",
    "Oh, porc en exil (Orphée), miroir brisé du toc cabotin et né du Perec: Regret éternel. L'opiniâtre. \n",
    "L'annulable.\n",
    "\n",
    "Mec, Alger tua l'élan ici démission. Ru ostracisé, notarial, si peu qu'Alger, Viet-Nam (élu caméléon !),\n",
    "Israël, Biafra, bal à merde: celez, apôtre Luc à Jéruzalem, ah ce boxon! On à écopé, ha, le maximum\n",
    "\n",
    "Escale d'os, pare le rang inutile. Métromane ici gamelle, tu perdras. Ah, tu as rusé! Cain! Lied \n",
    "imité la vache (à ne pas estimer) (flic assermenté, rengagé) régit.\n",
    "\n",
    "Il évita, nerf à la bataille trompé.\n",
    "\n",
    "Hé, dorée, l'Égérie pelée rape, sénile, sa vérité nue du sérum: rumeur à la laine, gel, if, feutrine,\n",
    "val, lieu-créche, ergot, pur, Bâtir ce lieu qu'Armada serve: if étété, éborgnas-tu l'astre sédatif ?\n",
    "\n",
    "Oh, célérités ! Nef ! Folie ! Oh, tubez ! Le brio ne cessera, ce cap sera ta valise; l'âge: ni sel-liard\n",
    "(sic) ni master-(sic)-coq, ni cédrats, ni la lune brève. Tercé, sénégalais, un soleil perdra ta bétise\n",
    "héritée (Moi-Dieu, la vérole!)\n",
    "\n",
    "Déroba le serbe glauque, pis, ancestral, hébreu (Galba et Septime-Sévère). Cesser, vidé et nié. \n",
    "Tetanos. Etna dès boustrophédon répudié. Boiser. Révèle l'avare mélo, s'il t'a béni, brutal tablier\n",
    "vil. Adios. Pilles, pale rétine, le sel, l'acide mercanti. Feu que Judas rêve, civette imitable, \n",
    "tu as alerté, sort à blason, leur croc. Et nier et n'oser. Casse-t-il, ô, baiser vil ? à toi, nu désir\n",
    "brisé, décédé, trope percé, roc lu. Détrompe la. Morts: l'Ame, l'Élan abêti, revenu. Désire ce trépas\n",
    "rêvé: Ci va ! S'il porte, sépulcral, ce repentir, cet écrit ne perturbe le lucre: Haridelle, ta gabegie\n",
    "ne mord ni la plage ni l'écart.\n",
    "\"\"\""
   ]
  },
  {
   "cell_type": "markdown",
   "metadata": {},
   "source": [
    "Deux choses sont à noter dans le code suivant qui est une légère modification du dernier code proposé.\n",
    "\n",
    "1. Dans le dictionnaire `ASCII_VERS_SPECIAL`, nous ne nous occupons plus que des lettres.\n",
    "\n",
    "1. Dans la fonction `nettoie_texte`, qui est très similaire à la fonction `nettoie_mot` vue avant, nous remplaçons les caractères accentués par leur version sans accent, puis nous supprimons ensuite  purement et simplement tout ce qui n'est pas une lettre de l'alphabet latin.  "
   ]
  },
  {
   "cell_type": "code",
   "execution_count": 14,
   "metadata": {
    "collapsed": false
   },
   "outputs": [
    {
     "name": "stdout",
     "output_type": "stream",
     "text": [
      "Le texte n'est pas un palindrome.\n"
     ]
    }
   ],
   "source": [
    "# ------------------- #\n",
    "# -- NOS FONCTIONS -- #\n",
    "# ------------------- #\n",
    "\n",
    "ASCII_VERS_SPECIAL = {\n",
    "    'a':\"àâä\",\n",
    "    \"c\": \"ç\",\n",
    "    \"e\": \"èéêë\",\n",
    "    \"i\": \"îï\",\n",
    "    \"o\": \"ôö\",\n",
    "    \"u\": \"ùûü\"\n",
    "}\n",
    "\n",
    "SPECIAL_VERS_ASCII = {}\n",
    "\n",
    "for lettre_ascii, lettres_speciales in ASCII_VERS_SPECIAL.items():\n",
    "    for une_lettre_speciale in lettres_speciales:\n",
    "        SPECIAL_VERS_ASCII[une_lettre_speciale] = lettre_ascii\n",
    "\n",
    "ALPHABET = \"abcdefghijklmnopqrstuvwxyz\"\n",
    "\n",
    "\n",
    "def nettoie_texte(texte):\n",
    "    \"\"\"\n",
    "Cette fonction \"nettoie\" un texte en \"retirant\" ses accents et en \n",
    "supprimant tous les caractères qui ne sont pas des lettres.\n",
    "    \"\"\"\n",
    "    global SPECIAL_VERS_ASCII\n",
    "    global ALPHABET\n",
    "    \n",
    "    texte = texte.lower()\n",
    "\n",
    "    texte_propre = \"\"\n",
    "\n",
    "    for cara in texte:\n",
    "        # Ci-dessous, nous utilisons\n",
    "        #\n",
    "        #     cara_simple = SPECIAL_VERS_ASCII.get(char, char) \n",
    "        #\n",
    "        # qui est un raccourci \"pythonien\" des lignes suivantes.\n",
    "        #\n",
    "        #     if cara in SPECIAL_VERS_ASCII:\n",
    "        #         cara_simple = SPECIAL_VERS_ASCII[cara]\n",
    "        #     else:\n",
    "        #         cara_simple = cara\n",
    "        cara_simple = SPECIAL_VERS_ASCII.get(cara, cara)\n",
    "\n",
    "        if cara_simple not in ALPHABET:\n",
    "            cara_simple = \"\"\n",
    "\n",
    "        texte_propre += cara_simple\n",
    "\n",
    "    return texte_propre\n",
    "\n",
    "\n",
    "def est_un_palindromme(texte):\n",
    "    \"\"\"\n",
    "Étant donné un mot, cette fonction renverra True si ce mot est un\n",
    "palindrome, et False sinon. Les caractères spéciaux et les tirets\n",
    "sont gérés.\n",
    "    \"\"\"\n",
    "    texte = nettoie_mot(texte)   \n",
    "\n",
    "    return texte[::1] == texte[::-1]\n",
    "\n",
    "\n",
    "# ----------------- #\n",
    "# -- APPLICATION -- #\n",
    "# ----------------- #\n",
    "\n",
    "if est_un_palindromme(texte):\n",
    "    print(\"Le texte est un palindrome.\")\n",
    "\n",
    "else:\n",
    "    print(\"Le texte n'est pas un palindrome.\")"
   ]
  },
  {
   "cell_type": "markdown",
   "metadata": {},
   "source": [
    "**Intéressant !** A-t-on un bug ? Le texte est-il vraiment un palindrome ? Menons l'enquête... Indiquons que nous utilisons ci-dessous la fonction `nettoie_texte` qui a été mémorisée par IPython lors de l'exécution de la cellule précédente."
   ]
  },
  {
   "cell_type": "code",
   "execution_count": 15,
   "metadata": {
    "collapsed": false
   },
   "outputs": [
    {
     "name": "stdout",
     "output_type": "stream",
     "text": [
      "Lettres différentes : <<i>> et <<e>>\n",
      "\n",
      "Début du texte\n",
      "--------------\n",
      "tracelinegalpalindromeneigebagatellediraherculelebrutrepentircetecritnepereclarclupesetroplisaviceversaperteceriseduneveritebanalelemalstromalepmortedulcorecrepeportedecedesirbriseduniotalivresiabolitessacresontereintecorcruelnosalbatrosetrelasautelbatimietteviceversadujeuquefitnacremedicalleseleniterelapsellipsoidalivreilbatlaturbinebatlisolemeravaleleverresiobeidupernodehportsuobsedantesonateteinteedivressecerevesemitpesteablaguerbehlartsecnasipeuqualgebreselaboredelorevalueidiomeetirehesitebatardreplielosnusialagenesecreteverbenulalinstardecinqoccisretsamincisdraillesinegalesilavatarespacecaressecenoirbelzebutho\n",
      "\n",
      "Fin du texte\n",
      "------------\n",
      "eohtubezlebrionecesseracecapseratavaliselageniselliardsicnimastersiccoqnicedratsnilalunebrevetercesenegalaisunsoleilperdratabetiseheriteemoidieulaverolederobaleserbeglauquepisancestralhebreugalbaetseptimeseverecesservideetnietetanosetnadesboustrophedonrepudieboiserrevelelavaremelosiltabenibrutaltablierviladiospillespaleretinelesellacidemercantifeuquejudasrevecivetteimitabletuasalertesortablasonleurcrocetnieretnosercassetilobaiservilatoinudesirbrisedecedetropepercerocludetrompelamortslamelelanabetirevenudesirecetrepasrevecivasilportesepulcralcerepentircetecritneperturbelelucreharidelletagabegienemordnilaplagenilecart\n"
     ]
    }
   ],
   "source": [
    "texte = nettoie_texte(texte)   \n",
    "\n",
    "for i in range(len(texte)):\n",
    "    if texte[i] != texte[-i - 1]: \n",
    "        print(\"Lettres différentes : <<{0}>> et <<{1}>>\".format(texte[i], texte[-i - 1]))\n",
    "        print(\"\")\n",
    "        print(\"Début du texte\")\n",
    "        print(\"--------------\")\n",
    "        print(texte[:i])\n",
    "        print(\"\")\n",
    "        print(\"Fin du texte\")\n",
    "        print(\"------------\")\n",
    "        print(texte[-i - 1:])\n",
    "        break"
   ]
  },
  {
   "cell_type": "markdown",
   "metadata": {},
   "source": [
    "Nous donnons ci-dessous le début et la fin de texte en indiquant entre des triples crochets un *\"e\"* qui pose problème. Les symboles sharp `#` délimitent la fin et le début de texte qui concordent bien. D'où vient la faute ? De l'auteur du texte original ? Du site utilisé comme référence ? À vous de mener l'enquête."
   ]
  },
  {
   "cell_type": "raw",
   "metadata": {},
   "source": [
    "Trace l'inégal palindrome. Neige. Bagatelle, dira Hercule. Le brut repentir, cet écrit né Perec. \n",
    "L'arc lu pèse trop, lis à vice-versa.\n",
    "\n",
    "Perte. Cerise d'une vérité banale, le Malstrom, Alep, mort édulcoré, crêpe porté de ce désir brisé\n",
    "d'un iota. Livre si aboli, tes sacres ont éreinté, cor cruel, nos albatros. Etre las, autel bâti,\n",
    "miette vice-versa du jeu que fit, nacré, médical, le sélénite relaps, ellipsoïdal.\n",
    "\n",
    "Ivre il bat, la turbine bat, l'isolé me ravale: le verre si obéi du Pernod -- eh, port su ! -- \n",
    "obsédante sonate teintée d'ivresse.\n",
    "\n",
    "Ce rêve se mit -- peste ! -- à blaguer. Beh ! L'art sec n'a si peu qu'algèbre s'élabore de l'or \n",
    "évalué. Idiome étiré, hésite, bâtard replié, l'os nu. Si, à la gêne sècrete-- verbe nul à l'instar \n",
    "de cinq occis--, rets amincis, drailles inégales, il, avatar espacé, caresse ce noir Belzebuth, \n",
    "ô #### il offensé, tire !\n",
    "\n",
    "[...]\n",
    "\n",
    "Oh, célérités ! Nef ! Foli[[[e]]] ! #### Oh, tubez ! Le brio ne cessera, ce cap sera ta valise; l'âge: ni sel-liard\n",
    "(sic) ni master-(sic)-coq, ni cédrats, ni la lune brève. Tercé, sénégalais, un soleil perdra ta bétise\n",
    "héritée (Moi-Dieu, la vérole!)\n",
    "\n",
    "Déroba le serbe glauque, pis, ancestral, hébreu (Galba et Septime-Sévère). Cesser, vidé et nié. \n",
    "Tetanos. Etna dès boustrophédon répudié. Boiser. Révèle l'avare mélo, s'il t'a béni, brutal tablier\n",
    "vil. Adios. Pilles, pale rétine, le sel, l'acide mercanti. Feu que Judas rêve, civette imitable, \n",
    "tu as alerté, sort à blason, leur croc. Et nier et n'oser. Casse-t-il, ô, baiser vil ? à toi, nu désir\n",
    "brisé, décédé, trope percé, roc lu. Détrompe la. Morts: l'Ame, l'Élan abêti, revenu. Désire ce trépas\n",
    "rêvé: Ci va ! S'il porte, sépulcral, ce repentir, cet écrit ne perturbe le lucre: Haridelle, ta gabegie\n",
    "ne mord ni la plage ni l'écart."
   ]
  }
 ],
 "metadata": {
  "kernelspec": {
   "display_name": "Python 3",
   "language": "python",
   "name": "python3"
  },
  "language_info": {
   "codemirror_mode": {
    "name": "ipython",
    "version": 3
   },
   "file_extension": ".py",
   "mimetype": "text/x-python",
   "name": "python",
   "nbconvert_exporter": "python",
   "pygments_lexer": "ipython3",
   "version": "3.4.3"
  }
 },
 "nbformat": 4,
 "nbformat_minor": 0
}
