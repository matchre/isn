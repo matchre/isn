{
 "metadata": {
  "name": "",
  "signature": "sha256:32b2f9ffe0b52f952cf442b1024343ec5009c6ba3be8ae7c381abfe3f9934489"
 },
 "nbformat": 3,
 "nbformat_minor": 0,
 "worksheets": [
  {
   "cells": [
    {
     "cell_type": "heading",
     "level": 1,
     "metadata": {},
     "source": [
      "Programmation Orient\u00e9e Objet"
     ]
    },
    {
     "cell_type": "markdown",
     "metadata": {},
     "source": [
      "Objets et POO sont au centre de la mani\u00e8re Python fonctionne. Vous n'\u00eates pas oblig\u00e9 d'utiliser la POO dans vos programmes - mais comprendre le concept est essentiel pour devenir plus qu'un d\u00e9butant. Entre autres raisons parce que vous aurez besoin d'utiliser les classes et objets fournis par la librairie standard.\n",
      "\n",
      "De plus, avant d'aborder la programmation d'interfaces graphiques qui utilisent abondamment les objet, des notions autour de la POO seront utiles."
     ]
    },
    {
     "cell_type": "heading",
     "level": 2,
     "metadata": {},
     "source": [
      "Petit historique"
     ]
    },
    {
     "cell_type": "markdown",
     "metadata": {},
     "source": [
      "La programmation en tant que telle est une mati\u00e8re relativement r\u00e9cente. Etonnament la programmation orient\u00e9e objet remonte aussi loin que les ann\u00e9es 1960. *Simula* est consid\u00e9r\u00e9 comme le premier langage de programmation orient\u00e9 objet.\n",
      "\n",
      "Les ann\u00e9es 1970 voient les principes de la programmation par objet se d\u00e9veloppent et prennent forme au travers notamment du langage *Smalltalk*\n",
      "\n",
      "\u00c0 partir des ann\u00e9es 1980, commence l'effervescence des langages \u00e0 objets : *Objective C* (d\u00e9but des ann\u00e9es 1980, utilis\u00e9 sur les plateformes Mac et iOS), *C++* (C with classes) en 1983 sont les plus c\u00e9l\u00e8bres. \n",
      "\n",
      "Les ann\u00e9es 1990 voient l'\u00e2ge d'or de l'extension de la programmation par objet dans les diff\u00e9rents secteurs du d\u00e9veloppement logiciel, notemment gr\u00e2ce \u00e0 l'\u00e9mergence des syst\u00e8mes d'exploitation bas\u00e9s sur une interface graphique (MacOS, Linux, Windows) qui font appel abondamment aux principes de la POO.\n",
      "\n",
      "Nous verrons sur le prochain classeur comment une interface graphique peut se programmer au moyens d'objets (fen\u00eatre, boutons, textes, champs de saisie etc...)."
     ]
    },
    {
     "cell_type": "heading",
     "level": 2,
     "metadata": {},
     "source": [
      "Programmation proc\u00e9durale"
     ]
    },
    {
     "cell_type": "markdown",
     "metadata": {},
     "source": [
      "La programmation proc\u00e9durale est celle que vous avez utilis\u00e9 jusqu'\u00e0 maintenant : cela consiste \u00e0 diviser votre programme en blocs r\u00e9utilisables appel\u00e9s fonctions.\n",
      "\n",
      "Vous essayez autant que possible de garder votre code en blocs modulaires, en d\u00e9cidant de mani\u00e8re logique quel bloc est appel\u00e9. Cela demande moins d\u2019effort pour visualiser ce que votre programme fait. Cela rend plus facile la maintenance de votre code \u2013 vous pouvez voir ce que fait une portion de code. Le fait d\u2019am\u00e9liorer une fonction (qui est r\u00e9utilis\u00e9e) peut am\u00e9liorer la performance \u00e0 plusieurs endroits dans votre programme.\n",
      "\n",
      "Vous avez des variables, qui contiennent vos donn\u00e9es, et des fonctions. Vous passez vos variables \u00e0 vos fonctions \u2013 qui agissent sur elles et peut-\u00eatre les modifient. L'inteaction entre les variables et les fonctions n'est pas toujours simple \u00e0 g\u00e9rer comme on l'a vu dans le classeur pr\u00e9c\u00e9dent ! ou bien une variable est locale et n'est pas visible des autres fonction, ou bien une variable est globale et toutes les fonctions sont suceptibles d'y avoir acc\u00e8s.\n",
      "\n",
      "On touche ici aux limites de la programmation proc\u00e9durale, lorsque le nombre de fonctions et de variables devient important."
     ]
    },
    {
     "cell_type": "heading",
     "level": 2,
     "metadata": {},
     "source": [
      "Mais qu\u2019est ce qu\u2019un Objet ?"
     ]
    },
    {
     "cell_type": "markdown",
     "metadata": {},
     "source": [
      "En Python les \u00e9l\u00e9ments de base de la programmation que nous avons rencontr\u00e9 comme les cha\u00eenes de caract\u00e8res, ou les listes sont des objets. Ils poss\u00e8dent des *propri\u00e9t\u00e9s* - variables qui stockent des valeurs - et des *m\u00e9thodes* - fonctions qui agissent sur ces valeurs.\n",
      "\n",
      "Voici un petit exemple d'objet qui vous est d\u00e9j\u00e0 familier :"
     ]
    },
    {
     "cell_type": "code",
     "collapsed": false,
     "input": [
      "liste=[3,5,4,2,8,5,4]"
     ],
     "language": "python",
     "metadata": {},
     "outputs": []
    },
    {
     "cell_type": "code",
     "collapsed": false,
     "input": [
      "liste.sort()\n",
      "liste"
     ],
     "language": "python",
     "metadata": {},
     "outputs": []
    },
    {
     "cell_type": "markdown",
     "metadata": {},
     "source": [
      "Ici nous avons fait appel \u00e0 la *m\u00e9thode* **sort()** de l'*objet* **liste** afin de trier notre liste.\n",
      "\n",
      "Mais dans nos projets futurs, nous pouvons avoir envie de d\u00e9finir nos propres objets, c'est \u00e0 dire d'enrichir la biblioth\u00e8que de types ***built-in*** standard de Python avec des objets que nous fa\u00e7onnerons selon nos besoins. C'est la qu'intervient la notion de classe."
     ]
    },
    {
     "cell_type": "heading",
     "level": 1,
     "metadata": {},
     "source": [
      "Cr\u00e9ation d'une classe"
     ]
    },
    {
     "cell_type": "markdown",
     "metadata": {},
     "source": [
      "En premier exemple, supposons que nous voulions travailler sur un logiciel de g\u00e9om\u00e9trie. Nous avons besoin d'un ***objet*** point qui est un nouveau type d'objet contenant deux informations :\n",
      "- l'abscisse de notre point\n",
      "- l'ordonn\u00e9e de notre point.\n",
      "\n",
      "Ces deux informations sont ce que nous appelons en POO des ***attributs*** ou des ***propri\u00e9t\u00e9s***.\n",
      "\n",
      "Assez de discours, cr\u00e9ons notre classe :"
     ]
    },
    {
     "cell_type": "code",
     "collapsed": false,
     "input": [
      "class Point():\n",
      "    abscisse=0\n",
      "    ordonnee=0"
     ],
     "language": "python",
     "metadata": {},
     "outputs": []
    },
    {
     "cell_type": "markdown",
     "metadata": {},
     "source": [
      "Et c'est tout !!! nous avons cr\u00e9\u00e9 une classe contenant deux ***propri\u00e9t\u00e9s*** une abscisse et une ordonn\u00e9e toutes deux initialis\u00e9es \u00e0 0.\n",
      "\n",
      "Comment \u00e7a marche ?"
     ]
    },
    {
     "cell_type": "code",
     "collapsed": false,
     "input": [
      "print (Point.abscisse)\n",
      "print (Point.ordonnee)\n",
      "Point.abscisse=2\n",
      "print (Point.abscisse)"
     ],
     "language": "python",
     "metadata": {},
     "outputs": []
    },
    {
     "cell_type": "markdown",
     "metadata": {},
     "source": [
      "Ca a l'air tr\u00e8 simple ! En r\u00e9alit\u00e9, nous allons vite \u00eatre limit\u00e9 si nous n'utilisons que cette classe. En effet, nous cr\u00e9\u00e9 un objet classe *Point* qui contient deux informations. Mais dans notre logiciel de g\u00e9om\u00e9trie, nous voulons cr\u00e9er plusieurs points !!\n",
      "\n",
      "C'est le moment de parler de la notion ***d'instance***. Une instance est un objet que nous cr\u00e9ons en m\u00e9moire \u00e0 partir d'une classe. Voici comment :"
     ]
    },
    {
     "cell_type": "code",
     "collapsed": false,
     "input": [
      "p1=Point()\n",
      "p2=Point()\n",
      "p1.abscisse=2\n",
      "p2.ordonnee=3\n",
      "print (p1.abscisse,p1.ordonnee)\n",
      "print (p2.abscisse,p2.ordonnee)"
     ],
     "language": "python",
     "metadata": {},
     "outputs": []
    },
    {
     "cell_type": "markdown",
     "metadata": {},
     "source": [
      "Nous y voila ! J'ai donc \u00e0 pr\u00e9sent la possibilit\u00e9 de cr\u00e9er autant de points que je veux. Il faut bien distinguer la notion de ***classe*** et la notion ***d'instance*** :\n",
      "- une ***classe*** peut \u00eatre vue comme le prototype permettant de cr\u00e9er nos instances\n",
      "- les ***instances*** sont les v\u00e9ritables objets que nos manipulerons, cr\u00e9\u00e9s \u00e0 partir de notre ***prototype***.\n",
      "\n",
      "Pour bien comprendre ce ph\u00e9nom\u00e8ne, prenons une comparaison avec le monde des contructeurs automobile : Lorsqu'un contructeur va sortir une nouvelle voiture, il ne va pas imm\u00e9diatement produire en s\u00e9rie plusieurs millions de v\u00e9hicules. Il va tout d'abord \u00e9laborer un ***prototype*** : \n",
      "- d'abord sur ***papier***, il va dessiner sa nouvelle voiture, les formes, les \u00e9quipements, chaque pi\u00e8ce de sa voiture etc...\n",
      "- ensuite il va r\u00e9aliser une maquette, la tester en soufflerie pour affiner sa forme\n",
      "- enfin, il va r\u00e9aliser un mod\u00e8le fonctionnelle qu'il testera sur route : c'est le prototype.\n",
      "\n",
      "C'est ce travail que nous r\u00e9aliserons lorsque nous construirons notre ***classe***. Construire une classe c'est construire un ***prototype unique***.\n",
      "\n",
      "Une fois notre prototype termin\u00e9, notre constructeur va passer \u00e0 la ***production en s\u00e9rie***. Il va cr\u00e9er des millions ***d'instances*** de notre prototype qui sont les voitures ***cr\u00e9\u00e9es en s\u00e9rie \u00e0 partir de notre prototype***. Chaque ***instance*** pourra \u00eatre personnalis\u00e9 \u00e0 partir de notre prototype : en effet chaque nouvelle voiture poss\u00e8dera sa propre couleur qui n'est pas forc\u00e9ment celle de notre prototype, poss\u00e8dera des options sp\u00e9cifique (gps, toit ouvrant etc...).\n",
      "\n",
      "Retenez donc cette comparaison : \n",
      "- la ***classe*** correspond \u00e0 notre ***prototype***\n",
      "- l'***instance*** correspond \u00e0 la voiture produite ***en s\u00e9rie*** \u00e0 partie de notre protptype (la classe)."
     ]
    },
    {
     "cell_type": "heading",
     "level": 2,
     "metadata": {},
     "source": [
      "Notion de m\u00e9thode"
     ]
    },
    {
     "cell_type": "markdown",
     "metadata": {},
     "source": [
      "Nous avons cr\u00e9\u00e9 notre objet point qui se caract\u00e9rise par deux ***propri\u00e9t\u00e9s*** : abscisse et ordonn\u00e9e. Mais si ce n'\u00e9tait que cela, pourquoi ne pas utiliser un tuple ! Nous allons donc enrichir notre classe (le prototype servant de mod\u00e8le pour cr\u00e9er nos points) en y ajoutant des fonctions uniques : les ***m\u00e9thodes***.\n",
      "\n",
      "Nous nous int\u00e9ressons par exemple \u00e0 la distance s\u00e9parant notre point de l'origine du rep\u00e8re. Nous souhaiterions que notre objet point poss\u00e8de une ***m\u00e9thode*** pour nous renvoyer cette information. Une ***m\u00e9thode*** n'est autre qu'une ***fonction*** int\u00e9gr\u00e9e \u00e0 un objet. Voici comment proc\u00e9der. Nous allons modifier notre ***classe*** :"
     ]
    },
    {
     "cell_type": "code",
     "collapsed": false,
     "input": [
      "from math import sqrt # On a besoin de la racine carr\u00e9e !\n",
      "\n",
      "class Point():\n",
      "    abscisse=0\n",
      "    ordonnee=0\n",
      "    \n",
      "    def distanceAZero (self):\n",
      "        return sqrt (self.abscisse**2+self.ordonnee**2)"
     ],
     "language": "python",
     "metadata": {},
     "outputs": []
    },
    {
     "cell_type": "markdown",
     "metadata": {},
     "source": [
      "Regardons le r\u00e9sultat :"
     ]
    },
    {
     "cell_type": "code",
     "collapsed": false,
     "input": [
      "p1=Point()\n",
      "p1.abscisse=3\n",
      "p1.ordonnee=4\n",
      "print(p1.distanceAZero())"
     ],
     "language": "python",
     "metadata": {},
     "outputs": []
    },
    {
     "cell_type": "markdown",
     "metadata": {},
     "source": [
      "Et voila ! notre ***objet*** point commence \u00e0 prendre tournure : il poss\u00e8de\n",
      "- deux ***propri\u00e9t\u00e9s*** : *abscisse* et *ordonnee*\n",
      "- une ***m\u00e9thode*** : *distanceAZero()*\n",
      "\n",
      "Cette m\u00e9thode est une fonction encapsul\u00e9e dans notre objet qui agit sur ses propri\u00e9t\u00e9s et effecture le travail demand\u00e9. Revenons sur la d\u00e9claration de cette m\u00e9thode :\n",
      "\n",
      "Une m\u00e9thode se d\u00e9clare comme une c=fonction classique \u00e0 l'*int\u00e9rieur de la classe* \u00e0 ceci pr\u00e8s qu'elle prend toujours ***en premier argument l'instance sur laquelle elle agit***. Par convention, nous nommons cette instance ***self***.\n",
      "\n",
      "Nous voyons sur l'exemple de la *distanceAZero* l'avantage de disposer de cette information d'instance : nous voulons que la m\u00e9thode agisse sur l'***instance***  depuis laquelle elle a \u00e9t\u00e9 appel\u00e9e et non sur les propri\u00e9t\u00e9s de la classe (le prototype). La variable ***self*** nous permettra de conna\u00eetre l'instance sur laquelle nous travaillons.\n",
      "\n",
      "Reste \u00e0 d\u00e9crire la syntaxe un peu \u00e9trange de cette fonction : Si ***self***  est le premier argument, pourquoi ne le trouve t-on pas lors de l'appel de la fonction *distanceAZero()* ? Voici l'explication.\n",
      "\n",
      "En r\u00e9alit\u00e9, nous devrions passer l'appel \u00e0 la m\u00e9thode de cette mani\u00e8re :"
     ]
    },
    {
     "cell_type": "code",
     "collapsed": false,
     "input": [
      "print(Point.distanceAZero(p1))"
     ],
     "language": "python",
     "metadata": {},
     "outputs": []
    },
    {
     "cell_type": "markdown",
     "metadata": {},
     "source": [
      "Ainsi nous voyons bien que distanceAZero accepte bien l'instance sur laquelle elle agit en premier param\u00e8tre et que c'est une fonciton int\u00e9gr\u00e9e \u00e0 la classe ***Point***. N\u00e9anmoins cette syntaxe est tr\u00e8s lourde ! Imaginez taper la ligne suivante \u00e0 la place de \n",
      "\n",
      "    liste.append(5)"
     ]
    },
    {
     "cell_type": "code",
     "collapsed": false,
     "input": [
      "list.append(liste,'autre syntaxe')\n",
      "# Et pourtant cela foncitonne !\n",
      "print(liste)"
     ],
     "language": "python",
     "metadata": {},
     "outputs": []
    },
    {
     "cell_type": "markdown",
     "metadata": {},
     "source": [
      "Dans la pratique, une m\u00e9thode sera toujours appel\u00e9e depuis une instance et le premier param\u00e8tre sera omis puisque il est donn\u00e9e justement par l'instance qui appelle. Syntaxiquement, les deux formes\n",
      "\n",
      "    Point.distanceAZero(p1)\n",
      "et\n",
      "\n",
      "    p1.distanceAZero()\n",
      "\n",
      "sont \u00e9quivalentes. Nous utiliserons syst\u00e9matiquement la seconde forme."
     ]
    },
    {
     "cell_type": "heading",
     "level": 2,
     "metadata": {},
     "source": [
      "A vous de jouer"
     ]
    },
    {
     "cell_type": "markdown",
     "metadata": {},
     "source": [
      "Vous allez enrichir la classe ***Point*** en ajoutant\n",
      "- une propri\u00e9t\u00e9 ***nom*** contenant le nom du point (par d\u00e9faut 'A')\n",
      "- une m\u00e9thode ***distance(p)*** qui \n",
      "    - affichera untexte du type \"La distance AB=5\" avec bien sur les vrais noms des points et la vraie distance\n",
      "    - retournera la distance du point au point *p* pass\u00e9 en argument.\n",
      "\n",
      "Attention, je rappelle qu'une m\u00e9thode prend ***toujours*** en premier argument ***self***."
     ]
    },
    {
     "cell_type": "code",
     "collapsed": false,
     "input": [
      "from math import sqrt # On a besoin de la racine carr\u00e9e !\n",
      "\n",
      "# Red\u00e9finissez votre classe\n"
     ],
     "language": "python",
     "metadata": {},
     "outputs": []
    },
    {
     "cell_type": "markdown",
     "metadata": {},
     "source": [
      "Pour tester votre classe, validez la cellule suivante. La r\u00e9ponse doit \u00eatre :\n",
      "    \n",
      "    La distance  AB = 5.0\n",
      "    Out[...]:5.0"
     ]
    },
    {
     "cell_type": "code",
     "collapsed": false,
     "input": [
      "p1=Point()\n",
      "p1.abscisse=2\n",
      "p1.ordonnee=3\n",
      "\n",
      "p2.abscisse=-1\n",
      "p2.ordonnee=7\n",
      "p2.nom='B'\n",
      "\n",
      "p1.distance(p2)"
     ],
     "language": "python",
     "metadata": {},
     "outputs": []
    },
    {
     "cell_type": "heading",
     "level": 1,
     "metadata": {},
     "source": [
      "Surcharge des op\u00e9rateurs"
     ]
    },
    {
     "cell_type": "markdown",
     "metadata": {},
     "source": [
      "On peut am\u00e9liorer un peu le comportement de notre classe en initialisant de mani\u00e8re plus propre les diff\u00e9rentes propri\u00e9t\u00e9s. En effet, pour le moment, pour cr\u00e9er un point avec le bon nom et les coordonn\u00e9es souhait\u00e9es, nous avons besoin de 4 lignes !\n",
      "    p1=Point()\n",
      "    p1.abscisse=2\n",
      "    p1.ordonnee=3\n",
      "    p1.nom='P'\n",
      "\n",
      "On peut faire beaucoup mieux en ***surchargeant*** la m\u00e9thode ***__init()__*** qui est une m\u00e9thode sp\u00e9ciale appel\u00e9e automatiquement lors de la cr\u00e9ation d'ue instance. Cette m\u00e9thode prend\n",
      "- en premier param\u00e8tre ***self*** bien \u00e9videmment!\n",
      "- en param\u00e8tres optionnels, des param\u00e8tres pass\u00e9s \u00e0 la classe lors de la cr\u00e9ation."
     ]
    },
    {
     "cell_type": "code",
     "collapsed": false,
     "input": [
      "class Point():\n",
      "    def __init__(self,x,y,nom):\n",
      "        self.abscisse=x\n",
      "        self.ordonnee=y\n",
      "        self.nom=nom\n",
      "    \n",
      "    def distanceAZero (self):\n",
      "        return sqrt (self.abscisse**2+self.ordonnee**2)\n",
      "    \n",
      "    def distance(self, p):\n",
      "        d=sqrt((self.abscisse-p.abscisse)**2+(self.ordonnee-p.ordonnee)**2)\n",
      "        print (\"La distance \",self.nom+p.nom,\"=\",d)\n",
      "        return d"
     ],
     "language": "python",
     "metadata": {},
     "outputs": []
    },
    {
     "cell_type": "markdown",
     "metadata": {},
     "source": [
      "Regardons comment cr\u00e9er notre point :"
     ]
    },
    {
     "cell_type": "code",
     "collapsed": false,
     "input": [
      "p1=Point(2,3,'A')\n",
      "p2=Point(-1,7,'B')\n",
      "p1.distance(p2)"
     ],
     "language": "python",
     "metadata": {},
     "outputs": []
    },
    {
     "cell_type": "markdown",
     "metadata": {},
     "source": [
      "C'est quand m\u00eame bien mieux ! Mais tout n'est pas parfait. Observez ce qui se passe si je veux afficher les coordonn\u00e9es d'un point. Je peux avoir envie de faire cela :"
     ]
    },
    {
     "cell_type": "code",
     "collapsed": false,
     "input": [
      "print(p1)\n",
      "# beark"
     ],
     "language": "python",
     "metadata": {},
     "outputs": []
    },
    {
     "cell_type": "heading",
     "level": 2,
     "metadata": {},
     "source": [
      "A vous de jouer"
     ]
    },
    {
     "cell_type": "markdown",
     "metadata": {},
     "source": [
      "Il existe une autre m\u00e9thode *magique* - en r\u00e9alit\u00e9, il y en a environs 80 - permettant de red\u00e9finir le comportement des op\u00e9rateurs int\u00e9gr\u00e9s \u00e0 Python. Vous allez cr\u00e9er une m\u00e9thode nomm\u00e9e ***__str()__*** qui \n",
      "- ne prendra pas d'argument autre que ***self*** bien sur\n",
      "- retournera une cha\u00eene de caract\u00e8re du type \"A(2;3)\"\n",
      "\n",
      "Pour construire votre cha\u00eene, vous pourrez utiliser la concat\u00e9nation de chaines de caract\u00e8res au moyen de l'op\u00e9rateur +. Regardez l'exemple :"
     ]
    },
    {
     "cell_type": "code",
     "collapsed": false,
     "input": [
      "x,y=2,3\n",
      "chaine=\"A\"+str(x)+\"; etc...\"\n",
      "# etc... vous voyez le principe\n",
      "print(chaine)"
     ],
     "language": "python",
     "metadata": {},
     "outputs": []
    },
    {
     "cell_type": "code",
     "collapsed": false,
     "input": [
      "# A vous de jouer\n"
     ],
     "language": "python",
     "metadata": {},
     "outputs": []
    },
    {
     "cell_type": "code",
     "collapsed": false,
     "input": [
      "# Et voila la magie qui s'op\u00e8re !\n",
      "\n",
      "p1=Point(2,3,'A')\n",
      "print(p1)"
     ],
     "language": "python",
     "metadata": {},
     "outputs": []
    },
    {
     "cell_type": "markdown",
     "metadata": {},
     "source": [
      "Et voila, bien venue dans le monde merveilleux des objets.\n",
      "\n",
      "En seconde partie, nous allons prendre un exemple plus sofistiqu\u00e9 sur les polynomes pour approfondir les notions que nous avons introduites dans ce classeur.\n",
      "\n",
      "A bient\u00f4t !"
     ]
    },
    {
     "cell_type": "code",
     "collapsed": false,
     "input": [],
     "language": "python",
     "metadata": {},
     "outputs": []
    }
   ],
   "metadata": {}
  }
 ]
}