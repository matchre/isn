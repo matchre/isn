{
 "cells": [
  {
   "cell_type": "markdown",
   "metadata": {
    "collapsed": true
   },
   "source": [
    "Carré de Polybe\n",
    "===============\n",
    "\n",
    "Réouvrir la page principale\n",
    "---------------------------\n",
    "\n",
    "[Cliquer ici](../main.ipynb)\n",
    "\n",
    "\n",
    "À vous de jouer : coder un texte \"à la Polybe\"\n",
    "----------------------------------------------\n",
    "\n",
    "Nous redonnons le tableau pour coder nos textes.\n",
    "\n",
    "         1 | 2   | 3 | 4 | 5\n",
    "    ------------------------\n",
    "    1 || a | b   | c | d | e\n",
    "    2 || f | g   | h | i | j\n",
    "    3 || k | l   | m | n | o \n",
    "    4 || p | q   | r | s | t \n",
    "    5 || u | v,w | x | y | z \n",
    "\n",
    "\n",
    "Le programme suivant est une traduction directe de la technique de codage proposé par Polybe. Rappelons que les espaces devaient être codés par $00$. Notez l'utilisation de la \"pythonnerie\" `colonne, ligne = a, b` qui équivaut à l'emploi de `colonne = a` et `ligne = b`. Pour vérifier notre programme, notons au passage que \"les\" est codé par `235144`."
   ]
  },
  {
   "cell_type": "code",
   "execution_count": null,
   "metadata": {
    "collapsed": false
   },
   "outputs": [],
   "source": [
    "# ------------ #\n",
    "# -- CODAGE -- #\n",
    "# ------------ #\n",
    "\n",
    "ALPHABET = \"abcdefghijklmnopqrstuvwxyz\"\n",
    "\n",
    "\n",
    "CODAGE = {\" \": \"00\"}\n",
    "\n",
    "colonne, ligne = 0, 1\n",
    "\n",
    "for cara in ALPHABET:\n",
    "    if cara != \"w\":    \n",
    "        colonne += 1\n",
    "\n",
    "        if colonne == 6:\n",
    "            colonne, ligne = 1, ligne + 1\n",
    "\n",
    "    CODAGE[cara] = \"{0}{1}\".format(colonne, ligne)\n",
    "\n",
    "\n",
    "def code(texte):\n",
    "    \"\"\"\n",
    "Cette fonction crypte un texte via le code de Polybe.\n",
    "    \"\"\"\n",
    "    global CODAGE\n",
    "    \n",
    "    texte_code = \"\"\n",
    "\n",
    "    for cara in texte:\n",
    "        texte_code += CODAGE[cara]\n",
    "    \n",
    "    return texte_code\n",
    "\n",
    "\n",
    "# ----------------- #\n",
    "# -- APPLICATION -- #\n",
    "# ----------------- #\n",
    "\n",
    "texte      = \"les velibs de polybe\"\n",
    "texte_code = code(texte)\n",
    "\n",
    "print(texte_code)"
   ]
  },
  {
   "cell_type": "markdown",
   "metadata": {},
   "source": [
    "Nous retrouvons bien `235144` au début. Dans la section suivante, nous vérifions plus sérieusement la validité de ce code.\n",
    "\n",
    "\n",
    "Pour les plus rapides : décoder un texte \"à la Polybe\"\n",
    "------------------------------------------------------\n",
    "\n",
    "Rappelons que l'on sait que le codeur utilise $00$ pour les espaces, et que le texte initial ne contenait que des lettres minuscules non accentuées et des espaces, et donc aucun caractère spécial du type point, apostrophe, guillemet ouvrant... etc. Commençons par une première proposition incomplète car elle ne gère pas le cas du \"v\" et du \"w\" : on choisit pour le moment de ne mettre que des \"v\"."
   ]
  },
  {
   "cell_type": "code",
   "execution_count": 2,
   "metadata": {
    "collapsed": false
   },
   "outputs": [
    {
     "name": "stdout",
     "output_type": "stream",
     "text": [
      "Texte codé   : \"5451355451002142514300415131534151002134112553\"\n",
      "Texte décodé : \"texte bien decode bravo\"\n"
     ]
    }
   ],
   "source": [
    "# -------------- #\n",
    "# -- DÉCODAGE -- #\n",
    "# -------------- #\n",
    "\n",
    "ALPHABET = \"abcdefghijklmnopqrstuvwxyz\"\n",
    "\n",
    "\n",
    "CODAGE = {\" \": \"00\"}\n",
    "\n",
    "colonne, ligne = 0, 1\n",
    "\n",
    "for cara in ALPHABET:\n",
    "    if cara != \"w\":    \n",
    "        colonne += 1\n",
    "\n",
    "        if colonne == 6:\n",
    "            colonne, ligne = 1, ligne + 1\n",
    "\n",
    "    CODAGE[cara] = \"{0}{1}\".format(colonne, ligne)\n",
    "\n",
    "\n",
    "DECODAGE = {}\n",
    "\n",
    "for cara, un_code in CODAGE.items():\n",
    "    # On ne garde pas le \"w\".\n",
    "    if un_code not in DECODAGE:\n",
    "        DECODAGE[un_code] = cara\n",
    "\n",
    "        \n",
    "def decode(texte_code):\n",
    "    \"\"\"\n",
    "Cette fonction décode partiellement un texte codé via le code\n",
    "de Polybe. Le cas ambigu des \"v\" et des \"w\" n'est pas traité\n",
    "ici, plus précisément les mots ne contiendront aucun \"w\".\n",
    "    \"\"\"\n",
    "    global DECODAGE\n",
    "    \n",
    "    taille_texte = len(texte_code)\n",
    "    texte_decode = \"\"\n",
    "\n",
    "    for pos in range(0, taille_texte, 2):\n",
    "        un_code       = texte_code[pos:pos+2]\n",
    "        texte_decode += DECODAGE[un_code]\n",
    "\n",
    "    return texte_decode\n",
    "\n",
    "\n",
    "# ----------------- #\n",
    "# -- APPLICATION -- #\n",
    "# ----------------- #\n",
    "\n",
    "texte_code   = \"5451355451002142514300415131534151002134112553\"\n",
    "texte_decode = decode(texte_code)\n",
    "\n",
    "print('Texte codé   : \"{0}\"'.format(texte_code))\n",
    "print('Texte décodé : \"{0}\"'.format(texte_decode))"
   ]
  },
  {
   "cell_type": "markdown",
   "metadata": {},
   "source": [
    "Ceci semble être juste. Vérifions maintenant que le code trouvé dans la première section était bien le bon *(au passage, nous testons en fait nos deux programmes)*."
   ]
  },
  {
   "cell_type": "code",
   "execution_count": 3,
   "metadata": {
    "collapsed": false
   },
   "outputs": [
    {
     "name": "stdout",
     "output_type": "stream",
     "text": [
      "Texte initial : \"les velibs de polybe\"\n",
      "Texte décodé  : \"les velibs de polybe\"\n"
     ]
    }
   ],
   "source": [
    "texte_code   = \"2351440025512342214400415100145323452151\"\n",
    "texte_decode = decode(texte_code)\n",
    "\n",
    "print('Texte initial : \"les velibs de polybe\"')\n",
    "print('Texte décodé  : \"{0}\"'.format(texte_decode))"
   ]
  },
  {
   "cell_type": "markdown",
   "metadata": {},
   "source": [
    "Rassurant mais nous avons eu de la chance jusqu'ici car dans les textes initiaux n'appraissaient pas de \"w\". Il nous reste donc à gérer le cas d'un texte où appraissent des \"v\" et des \"w\". Le code suivant montre la faiblesse de la première version de notre programme décodeur. Indiquons au passage [cette page](http://www.listesdemots.fr/accueil.htm) qui permet d'obtenir des mots vérifiant certaines propriétés. "
   ]
  },
  {
   "cell_type": "code",
   "execution_count": 4,
   "metadata": {
    "collapsed": false
   },
   "outputs": [
    {
     "name": "stdout",
     "output_type": "stream",
     "text": [
      "Texte initial       : interview du wagon et de la voiture\n",
      "Texte \"codé-décodé\" : interviev du vagon et de la voiture\n"
     ]
    }
   ],
   "source": [
    "# On suppose que touts les cellules précédentes ont été exécutées\n",
    "# par IPython. Ceci permet d'utiliser les fonctions code et decode.\n",
    "\n",
    "texte        = \"interview du wagon et de la voiture\"\n",
    "texte_code   = code(texte)\n",
    "texte_decode = decode(texte_code)\n",
    "\n",
    "print(\"Texte initial       :\", texte)\n",
    "print('Texte \"codé-décodé\" :', texte_decode)"
   ]
  },
  {
   "cell_type": "markdown",
   "metadata": {},
   "source": [
    "Rappelons la concrainte forte qui dit que les espaces sont codés par $00$. Ceci nous permet d'isoler facilement les mots dans notre texte décodé imparfaitement. Nous allons donc construire une fonction qui pour chaque mot contenant des \"v\" tentera de retrouver un mot existant obtenu en remplaçant certains \"v\" par des \"w\".  À vous de voir comment fonctionne le code ci-après *(notez au passage l'utilisation des méthodes `split` et `join` des variables de type `str`, ainsi que l'emploi de `raise` pour envoyer un message d'erreur en cas d'échec)*.\n",
    "\n",
    "**Remarque : ** nous restons dans le cas de mots sans accent mais étendre le code ci-après pour gérer plus de caractères n'est pas une tâche ardue."
   ]
  },
  {
   "cell_type": "code",
   "execution_count": 5,
   "metadata": {
    "collapsed": false
   },
   "outputs": [
    {
     "name": "stdout",
     "output_type": "stream",
     "text": [
      "Texte initial              : interview du wagon et de la voiture\n",
      "Texte décodé partiellement : interviev du vagon et de la voiture\n",
      "Texte décodé totalement    : interview du wagon et de la voiture\n"
     ]
    }
   ],
   "source": [
    "# On suppose que touts les cellules précédentes ont été exécutées\n",
    "# par IPython. Ceci permet d'utiliser les fonctions code et decode.\n",
    "\n",
    "# -------------------------------------------------- #\n",
    "# -- CHOISIR ENTRE \"V\" ET \"W\" (cf. \"Palindromes\") -- #\n",
    "# -------------------------------------------------- #\n",
    "\n",
    "MOTS_TOUT_EN_V = {}\n",
    "\n",
    "with open(\"motsfrancais_frgut.txt\", encoding=\"iso-8859-1\") as fichier:\n",
    "    for ligne in fichier:\n",
    "        mot = ligne.strip()\n",
    "        mot = mot.lower()\n",
    "        \n",
    "        if \"v\" in mot or \"w\" in mot:\n",
    "            mot_tout_en_v = mot.replace(\"w\", \"v\")\n",
    "            \n",
    "            if mot_tout_en_v in MOTS_TOUT_EN_V:\n",
    "                MOTS_TOUT_EN_V[mot_tout_en_v].append(mot)\n",
    "            else:\n",
    "                MOTS_TOUT_EN_V[mot_tout_en_v] = [mot]\n",
    "\n",
    "        \n",
    "def bonchoix_vw(texte):\n",
    "    \"\"\"\n",
    "Cette fonction tente de reconstruire un texte où tous les \"w\" \n",
    "ont été remplacés par des \"v\".\n",
    "    \"\"\"\n",
    "    global MOTS_TOUT_EN_V\n",
    "    \n",
    "    # On \"éclate\" le texte suivant chaque espace.\n",
    "    mots = texte.split(\" \")\n",
    "    \n",
    "    mots_trouves = []\n",
    "\n",
    "    for un_mot in mots:\n",
    "        if un_mot in MOTS_TOUT_EN_V:\n",
    "            mots_connus_associes = MOTS_TOUT_EN_V[un_mot]\n",
    "\n",
    "            if len(mots_connus_associes) > 1:\n",
    "                raise Exception(\"Décodage impossible !\")\n",
    "                \n",
    "            un_mot = mots_connus_associes[0]\n",
    "            \n",
    "        mots_trouves.append(un_mot)\n",
    "        \n",
    "    # On retourne le texte obtenu en \"collant\", avec un espace comme\n",
    "    # jointure, les mots contenus dans la variable mots_trouves. \n",
    "    return \" \".join(mots_trouves)\n",
    "            \n",
    "            \n",
    "# ----------------- #\n",
    "# -- APPLICATION -- #\n",
    "# ----------------- #\n",
    "\n",
    "texte      = \"interview du wagon et de la voiture\"\n",
    "texte_code = code(texte)\n",
    "\n",
    "texte_decode_partiellement = decode(texte_code)\n",
    "texte_decode_totalement    = bonchoix_vw(texte_decode_partiellement)\n",
    "\n",
    "\n",
    "print(\"Texte initial              :\", texte)\n",
    "print('Texte décodé partiellement :', texte_decode_partiellement)\n",
    "print('Texte décodé totalement    :', texte_decode_totalement)"
   ]
  }
 ],
 "metadata": {
  "kernelspec": {
   "display_name": "Python 3",
   "language": "python",
   "name": "python3"
  },
  "language_info": {
   "codemirror_mode": {
    "name": "ipython",
    "version": 3
   },
   "file_extension": ".py",
   "mimetype": "text/x-python",
   "name": "python",
   "nbconvert_exporter": "python",
   "pygments_lexer": "ipython3",
   "version": "3.4.3"
  }
 },
 "nbformat": 4,
 "nbformat_minor": 0
}
