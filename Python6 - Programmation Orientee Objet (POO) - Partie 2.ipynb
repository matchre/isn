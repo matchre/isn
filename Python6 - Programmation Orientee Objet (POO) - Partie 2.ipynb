{
 "metadata": {
  "name": "",
  "signature": "sha256:e3813ab0e0672bc4cdaec81de41f3b81b9b2b0f81ab7ffa7ee2843d38dea241f"
 },
 "nbformat": 3,
 "nbformat_minor": 0,
 "worksheets": [
  {
   "cells": [
    {
     "cell_type": "heading",
     "level": 1,
     "metadata": {},
     "source": [
      "Programmation Orient\u00e9e Objet - Partie 2/2"
     ]
    },
    {
     "cell_type": "markdown",
     "metadata": {},
     "source": [
      "Dans cette seconde partie, nous allons voir l'utilisation des classes dans un cas concr\u00eat : Apprendre \u00e0 Python \u00e0 travailler sur les polynomes."
     ]
    },
    {
     "cell_type": "heading",
     "level": 1,
     "metadata": {},
     "source": [
      "Faisons nos classes !"
     ]
    },
    {
     "cell_type": "markdown",
     "metadata": {},
     "source": [
      "Un exemple valant mieux qu'un long discours, supposons que je sois en train de d\u00e9velopper un programme permettant de travailler sur les polyn\u00f4mes.\n",
      "\n",
      "Je peux d\u00e9finir un objet repr\u00e9sentant un polyn\u00f4me en g\u00e9n\u00e9ral. On peut choisir de repr\u00e9senter les coefficients par une liste de nombres, qui sera donc une *propri\u00e9t\u00e9* de notre classe et d\u00e9finir une *m\u00e9thode* permettant de calculer le degr\u00e9 du polyn\u00f4me.\n",
      "\n",
      "Avec ces conventions, la liste [1,2,3] repr\u00e9sente le polyn\u00f4me $1+2x+3x^2$."
     ]
    },
    {
     "cell_type": "heading",
     "level": 2,
     "metadata": {},
     "source": [
      "Exemple de classe"
     ]
    },
    {
     "cell_type": "markdown",
     "metadata": {},
     "source": [
      "Voici le code d\u00e9finissant la classe **Polynome** avec une m\u00e9thode pour calculer le degr\u00e9 et une autre pour calculer une valeur en un r\u00e9el $x$"
     ]
    },
    {
     "cell_type": "code",
     "collapsed": false,
     "input": [
      "class Polynome :\n",
      "    \"\"\"Repr\u00e9sentation d'un polynome \u00e0 coefficients r\u00e9els\"\"\"\n",
      "\n",
      "    def __init__(self, liste_coeffs = [0]) :\n",
      "        \"\"\"Initialisation des coeffs, polynome nul par d\u00e9faut\"\"\"\n",
      "        self.coeffs = liste_coeffs\n",
      "\n",
      "    def deg(self) :\n",
      "        \"\"\"Degr\u00e9 du polynome\"\"\"\n",
      "        return len(self.coeffs)-1\n",
      "\n",
      "    def valeur(self, x) :\n",
      "        \"\"\"Calcule P(x)\"\"\"\n",
      "        val = self.coeffs[0]\n",
      "        power = 1\n",
      "        for k  in range(1, len(self.coeffs)) :\n",
      "            power = power * x\n",
      "            val = val + self.coeffs[k]*power\n",
      "        return val"
     ],
     "language": "python",
     "metadata": {},
     "outputs": []
    },
    {
     "cell_type": "heading",
     "level": 3,
     "metadata": {},
     "source": [
      "Explications et remarques"
     ]
    },
    {
     "cell_type": "markdown",
     "metadata": {},
     "source": [
      "- Par convention, on mettra une **majuscule \u00e0 la premi\u00e8re lettre du nom d'une classe**, pour les diff\u00e9rencier des autres variables, fonctions qui, elles, d\u00e9buteront toujours par une lettre minuscule.\n",
      "- La premi\u00e8re m\u00e9thode d\u00e9finie ci-dessous porte le nom sp\u00e9cial *** \\_\\_init\\_\\_()*** : il s'agit de la *m\u00e9thode constructeur* : elle est **automatiquement ex\u00e9cut\u00e9e lors de la cr\u00e9ation d'un nouvel objet de type Polynome** (voir plus loin).\n",
      "- Dans cette m\u00e9thode, nous d\u00e9clarons une *propri\u00e9t\u00e9* \u00e0 notre classe par l'affectation **self.coeffs = **. Une propri\u00e9t\u00e9 est une variable qui est *attach\u00e9e* \u00e0 la classe, d'o\u00f9 le recours \u00e0 *self* pour r\u00e9f\u00e9rencer l'objet lui-m\u00eame. En g\u00e9n\u00e9ral, ces *propri\u00e9t\u00e9s* sont initialis\u00e9es dans la *m\u00e9thode*  *** \\_\\_init\\_\\_()***.\n",
      "- Chacune des trois m\u00e9thodes poss\u00e8de comme premier argument le param\u00e8tre sp\u00e9cial *self* : il repr\u00e9sente l'objet \"lui-m\u00eame\" dont on est en train de d\u00e9finir une m\u00e9thode. La r\u00e9f\u00e9rence \u00e0 cet objet est **obligatoire** : Toute d\u00e9claration de m\u00e9thode doit contenir **self** comme premier param\u00e8tre.\n",
      "- On le voit sur cet exemple, une m\u00e9thode n'est pas grand chose de plus qu'une fonction telle que vous la conaissez ! la mani\u00e8re de la d\u00e9clarer dans une classe est assez similaire - au param\u00e8tre **self** pr\u00e8s."
     ]
    },
    {
     "cell_type": "markdown",
     "metadata": {},
     "source": [
      "L'objet ***Polynome()*** que nous venons de cr\u00e9er poss\u00e8de\n",
      "- une *propri\u00e9t\u00e9* : la liste **coeffs**\n",
      "- deux *m\u00e9thodes* en plus de ***\\_\\_init()\\_\\_*** (qui elle est syst\u00e9matique) : **deg()** et **valeur()**\n",
      "\n",
      "L'acc\u00e8s \u00e0 la *propri\u00e9t\u00e9* **coeffs** de notre classe se fait au travers de la variable *self.coeffs*"
     ]
    },
    {
     "cell_type": "heading",
     "level": 3,
     "metadata": {},
     "source": [
      "Utilisons notre nouvelle classe"
     ]
    },
    {
     "cell_type": "code",
     "collapsed": false,
     "input": [
      "p = Polynome([0, 2, 3, 1])\n",
      "print(\"P est de degr\u00e9 \",p.deg())\n",
      "print(\"P(10)=\",p.valeur(10))\n",
      "print(\"Les coeffs de P sont \",p.coeffs)"
     ],
     "language": "python",
     "metadata": {},
     "outputs": []
    },
    {
     "cell_type": "heading",
     "level": 3,
     "metadata": {},
     "source": [
      "Explications et remarques"
     ]
    },
    {
     "cell_type": "markdown",
     "metadata": {},
     "source": [
      "- Lors de la cr\u00e9ation d'un nouveau polyn\u00f4me, on appelle la classe *Polynome()* avec comme argument la liste des coefficients. Cela a pour effet d'ex\u00e9cuter la m\u00e9thode constructeur ***\\_\\_init\\_\\_()*** de la classe Polynome() qui cr\u00e9e la *propri\u00e9t\u00e9* **coeffs** correspondant.\n",
      "- Pour ex\u00e9cuter une *m\u00e9thode* associ\u00e9e \u00e0 l'objet *p*, on utilise la notation point\u00e9e et on omet l'argument *self* : celui-ci n'est pr\u00e9cis\u00e9 **que lors de la d\u00e9finition d'une m\u00e9thode, mais pas lors de son ex\u00e9cution**."
     ]
    },
    {
     "cell_type": "heading",
     "level": 2,
     "metadata": {},
     "source": [
      "Un peu de magie : surcharge de fonctions pr\u00e9d\u00e9finies"
     ]
    },
    {
     "cell_type": "heading",
     "level": 3,
     "metadata": {},
     "source": [
      "Affichage d'un polyn\u00f4me"
     ]
    },
    {
     "cell_type": "markdown",
     "metadata": {},
     "source": [
      "Pour afficher un polyn\u00f4me, la commande *print()* ne donne pas le r\u00e9sultat attendu :"
     ]
    },
    {
     "cell_type": "code",
     "collapsed": false,
     "input": [
      "print(p)"
     ],
     "language": "python",
     "metadata": {},
     "outputs": []
    },
    {
     "cell_type": "markdown",
     "metadata": {},
     "source": [
      "Pour parvenir au r\u00e9sultat attendu, on peut surcharger la fonction *print()*. Plus pr\u00e9cis\u00e9ment, on peut indiquer \u00e0 Python comment convertir un polyn\u00f4me en cha\u00eene de caract\u00e8res, ce que fera ensuite automatiquement la commande *print()*.\n",
      "\n",
      "Pour cela, on ajoutera la m\u00e9thode **\\_\\_str\\_\\_()** dans la d\u00e9finition de la classe Polynome(). Celle-ci est un peu longue \u00e0 \u00e9crire mais ce qu'il faut comprendre ici, c'est le principe de l'ajout de cette fonction."
     ]
    },
    {
     "cell_type": "code",
     "collapsed": false,
     "input": [
      "class Polynome :\n",
      "    \"\"\"Repr\u00e9sentation d'un polynome \u00e0 coefficients r\u00e9els\"\"\"\n",
      "\n",
      "    def __init__(self, liste_coeffs = [0]) :\n",
      "        \"\"\"Initialisation des coeffs, polynome nul par d\u00e9faut\"\"\"\n",
      "        self.coeffs = liste_coeffs\n",
      "\n",
      "    def deg(self) :\n",
      "        \"\"\"Degr\u00e9 du polynome\"\"\"\n",
      "        return len(self.coeffs)-1\n",
      "\n",
      "    def valeur(self, x) :\n",
      "        \"\"\"Calcule P(x)\"\"\"\n",
      "        val = self.coeffs[0]\n",
      "        power = 1\n",
      "        for k  in range(1, len(self.coeffs)) :\n",
      "            power = power * x\n",
      "            val = val + self.coeffs[k]*power\n",
      "        return val\n",
      "    \n",
      "    def __str__(self) :\n",
      "        \"\"\" Convertit le polynome en chaine pour affichage\"\"\"\n",
      "        chaine=\"\"\n",
      "        k = 0\n",
      "        # recherche du premier coefficient non nul\n",
      "        while self.coeffs[k] == 0 :\n",
      "            k = k+1\n",
      "        # \u00e9criture du terme de plus petit degr\u00e9\n",
      "        if k == 0 :\n",
      "            if self.coeffs[k] != 0 :\n",
      "                chaine = str(self.coeffs[k])\n",
      "        elif k == 1 :\n",
      "            if self.coeffs[k] == 1 :\n",
      "                chaine = \"X\"\n",
      "            elif self.coeffs[k] != 0 :\n",
      "                chaine = str(self.coeffs[k]) + \"X\"\n",
      "        else :\n",
      "            if self.coeffs[k] == 1 :\n",
      "                chaine = \"X^\" + str(k)\n",
      "            elif self.coeffs[k] != 0 :\n",
      "                chaine = str(self.coeffs[k]) + \"X^\"+str(k)\n",
      "        # \u00e9criture des termes suivants\n",
      "        for i in range(k+1, len(self.coeffs)) :\n",
      "            if self.coeffs[i] == 1 :\n",
      "                if i == 1 :\n",
      "                    chaine = chaine + \" + \" + \"X\"\n",
      "                else :\n",
      "                    chaine = chaine + \" + \" + \"X^\"+str(i)\n",
      "            elif self.coeffs[i] > 0 :\n",
      "                if i == 1 :\n",
      "                    chaine = chaine + \" + \" + str(self.coeffs[i]) + \"X\"\n",
      "                else :\n",
      "                    chaine = chaine + \" + \" + str(self.coeffs[i]) + \"X^\"+str(i)\n",
      "            elif self.coeffs[i] < 0 :\n",
      "                if i == 1 :\n",
      "                    chaine = chaine + \" - \" + str(abs(self.coeffs[i])) + \"X\"\n",
      "                else :\n",
      "                    chaine = chaine + \" - \" + str(abs(self.coeffs[i])) + \"X^\"+str(i)\n",
      "        return chaine"
     ],
     "language": "python",
     "metadata": {},
     "outputs": []
    },
    {
     "cell_type": "code",
     "collapsed": false,
     "input": [
      "p = Polynome([0, 2, 3, 1])\n",
      "print(p)"
     ],
     "language": "python",
     "metadata": {},
     "outputs": []
    },
    {
     "cell_type": "heading",
     "level": 3,
     "metadata": {},
     "source": [
      "Addition de polyn\u00f4mes"
     ]
    },
    {
     "cell_type": "markdown",
     "metadata": {},
     "source": [
      "Soit les polyn\u00f4mes $P(x)=2x+3x^2+x^3$ et $Q(x)=x^6$. Pour obtenir le polyn\u00f4me $P+Q$, on aimerait utiliser simplement l'op\u00e9rateur '+'. Mais voil\u00e0 ce qui arrive "
     ]
    },
    {
     "cell_type": "code",
     "collapsed": false,
     "input": [
      "p = Polynome([0, 2, 3, 1])\n",
      "q = Polynome([0, 0, 0, 0, 0, 0, 1])\n",
      "s = p + q\n",
      "print(s)"
     ],
     "language": "python",
     "metadata": {},
     "outputs": []
    },
    {
     "cell_type": "markdown",
     "metadata": {},
     "source": [
      "L\u00e0 encore, pour r\u00e9soudre ce probl\u00e8me, on peut surcharger l'addition en d\u00e9finissant la m\u00e9thode sp\u00e9ciale **\\_\\_add\\_\\_()**, c'est-\u00e0-dire apprendre \u00e0 Python comment on additionne deux polyn\u00f4mes.\n",
      "\n",
      "Nous compl\u00e9tons donc \u00e0 nouveau notre classe ***Polynomes()***"
     ]
    },
    {
     "cell_type": "code",
     "collapsed": false,
     "input": [
      "class Polynome :\n",
      "    \"\"\"Repr\u00e9sentation d'un polynome \u00e0 coefficients r\u00e9els\"\"\"\n",
      "\n",
      "    def __init__(self, liste_coeffs = [0]) :\n",
      "        \"\"\"Initialisation des coeffs, polynome nul par d\u00e9faut\"\"\"\n",
      "        self.coeffs = liste_coeffs\n",
      "\n",
      "    def deg(self) :\n",
      "        \"\"\"Degr\u00e9 du polynome\"\"\"\n",
      "        return len(self.coeffs)-1\n",
      "\n",
      "    def valeur(self, x) :\n",
      "        \"\"\"Calcule P(x)\"\"\"\n",
      "        val = self.coeffs[0]\n",
      "        power = 1\n",
      "        for k  in range(1, len(self.coeffs)) :\n",
      "            power = power * x\n",
      "            val = val + self.coeffs[k]*power\n",
      "        return val\n",
      "    \n",
      "    def __str__(self) :\n",
      "        \"\"\" Convertit le polynome en chaine pour affichage\"\"\"\n",
      "        chaine=\"\"\n",
      "        k = 0\n",
      "        # recherche du premier coefficient non nul\n",
      "        while self.coeffs[k] == 0 :\n",
      "            k = k+1\n",
      "        # \u00e9criture du terme de plus petit degr\u00e9\n",
      "        if k == 0 :\n",
      "            if self.coeffs[k] != 0 :\n",
      "                chaine = str(self.coeffs[k])\n",
      "        elif k == 1 :\n",
      "            if self.coeffs[k] == 1 :\n",
      "                chaine = \"X\"\n",
      "            elif self.coeffs[k] != 0 :\n",
      "                chaine = str(self.coeffs[k]) + \"X\"\n",
      "        else :\n",
      "            if self.coeffs[k] == 1 :\n",
      "                chaine = \"X^\" + str(k)\n",
      "            elif self.coeffs[k] != 0 :\n",
      "                chaine = str(self.coeffs[k]) + \"X^\"+str(k)\n",
      "        # \u00e9criture des termes suivants\n",
      "        for i in range(k+1, len(self.coeffs)) :\n",
      "            if self.coeffs[i] == 1 :\n",
      "                if i == 1 :\n",
      "                    chaine = chaine + \" + \" + \"X\"\n",
      "                else :\n",
      "                    chaine = chaine + \" + \" + \"X^\"+str(i)\n",
      "            elif self.coeffs[i] > 0 :\n",
      "                if i == 1 :\n",
      "                    chaine = chaine + \" + \" + str(self.coeffs[i]) + \"X\"\n",
      "                else :\n",
      "                    chaine = chaine + \" + \" + str(self.coeffs[i]) + \"X^\"+str(i)\n",
      "            elif self.coeffs[i] < 0 :\n",
      "                if i == 1 :\n",
      "                    chaine = chaine + \" - \" + str(abs(self.coeffs[i])) + \"X\"\n",
      "                else :\n",
      "                    chaine = chaine + \" - \" + str(abs(self.coeffs[i])) + \"X^\"+str(i)\n",
      "        return chaine\n",
      "    \n",
      "    def __add__(self, poly) :\n",
      "        \"\"\"retourne la somme de deux polynomes\"\"\"\n",
      "        coeffs_somme=[]\n",
      "        if self.deg() <= poly.deg() :\n",
      "            for i in range(self.deg()+1) :\n",
      "                coeffs_somme.append(self.coeffs[i] + poly.coeffs[i])\n",
      "            for i in range(self.deg()+1, poly.deg()+1) :\n",
      "                coeffs_somme.append(poly.coeffs[i])\n",
      "        else :\n",
      "            for i in range(poly.deg()+1) :\n",
      "                coeffs_somme.append(self.coeffs[i] + poly.coeffs[i])\n",
      "            for i in range(poly.deg()+1, self.deg()+1) :\n",
      "                coeffs_somme.append(self.coeffs[i])\n",
      "        somme = Polynome(coeffs_somme)\n",
      "        return somme"
     ],
     "language": "python",
     "metadata": {},
     "outputs": []
    },
    {
     "cell_type": "markdown",
     "metadata": {},
     "source": [
      "Essayons \u00e0 nouveau l'addition de nos polyn\u00f4mes"
     ]
    },
    {
     "cell_type": "code",
     "collapsed": false,
     "input": [
      "p = Polynome([0, 2, 3, 1])\n",
      "q = Polynome([0, 0, 0, 0, 0, 0, 1])\n",
      "s = p + q\n",
      "print(s)"
     ],
     "language": "python",
     "metadata": {},
     "outputs": []
    },
    {
     "cell_type": "heading",
     "level": 3,
     "metadata": {},
     "source": [
      "Autres m\u00e9thodes sp\u00e9ciales"
     ]
    },
    {
     "cell_type": "markdown",
     "metadata": {},
     "source": [
      "On peut \u00e9galement d\u00e9finir des m\u00e9thodes **\\_\\_sub\\_\\_()** pour la soustraction, **\\_\\_mul\\_\\_()** pour la multiplication, **\\_\\_truediv\\_\\_()** pour la division, etc...\n",
      "\n",
      "D'autres m\u00e9thodes sp\u00e9ciales existent : la [liste compl\u00e8te](https://docs.python.org/3/reference/datamodel.html) est disponible dans la documentation de Python."
     ]
    },
    {
     "cell_type": "heading",
     "level": 2,
     "metadata": {},
     "source": [
      "Le concept d'h\u00e9ritage"
     ]
    },
    {
     "cell_type": "markdown",
     "metadata": {},
     "source": [
      "L'un des grands avantages des objets est l'h\u00e9ritage. Cela permet de personaliser une classe en h\u00e9ritant des propri\u00e9t\u00e9s et m\u00e9thodes d'une autre classe.\n",
      "\n",
      "Nous allons en voir un exemple en cr\u00e9ant une classe ***Trinome()*** pour le cas particulier des polyn\u00f4mes du second degr\u00e9. En effet, un polynome du second degr\u00e9 \u00e9tant un cas particulier de polynome, nous ne voulons pas r\u00e9\u00e9crire tout le code que nous venons de cr\u00e9er, notamment pour l'affichage et l'addition. N\u00e9anmoins, pour le trinome, nous savons calculer les racines et nous souhaitons donc enrichir notre classe ***Trinome()*** avec une *m\u00e9thode* supl\u00e9mentaire appel\u00e9e **racines()**. Celle-ci utilisera une nouvelle *propri\u00e9t\u00e9* **delta** cr\u00e9\u00e9e lors de l'initialisation de notre classe. \n",
      "\n",
      "Pour \u00e9viter de r\u00e9\u00e9crire toutes les fonctions propres aux polynomes, nous allons faire *h\u00e9riter* notre classe ***Trinome()*** de la classe ***Polynomes()***.\n",
      "\n",
      "Regardez plut\u00f4t avec quelle facilit\u00e9 \u00e0 pr\u00e9sent nous allons cr\u00e9er notre classe ***Trinome()*** :"
     ]
    },
    {
     "cell_type": "code",
     "collapsed": false,
     "input": [
      "class Trinome(Polynome) :\n",
      "    \"\"\" Repr\u00e9sentation des polynomes du second degr\u00e9\"\"\"\n",
      "    \n",
      "    def __init__(self, liste_coeffs=[0,0,1]) :\n",
      "        \"\"\" Initialisation d'un trinome, x^2 par d\u00e9faut \"\"\"\n",
      "        Polynome.__init__(self, liste_coeffs) # On appelle le constructeur parent\n",
      "        self.a = liste_coeffs[2]\n",
      "        self.b = liste_coeffs[1]\n",
      "        self.c = liste_coeffs[0]\n",
      "        self.delta = self.b ** 2 - 4 * self.a * self.c\n",
      "\n",
      "    def racines(self) :\n",
      "        \"\"\" Calcule les racines \u00e9ventuelles d'un trinome \"\"\"\n",
      "        if self.delta < 0 :\n",
      "            return None\n",
      "        elif self.delta == 0 :\n",
      "            return -self.b / (2 * self.a)\n",
      "        else :\n",
      "            return ( (- self.b - sqrt(self.delta)) / (2 * self.a) ,\n",
      "                     (- self.b + sqrt(self.delta)) / (2 * self.a) )"
     ],
     "language": "python",
     "metadata": {},
     "outputs": []
    },
    {
     "cell_type": "heading",
     "level": 3,
     "metadata": {},
     "source": [
      "Explications et remarques"
     ]
    },
    {
     "cell_type": "markdown",
     "metadata": {},
     "source": [
      "- La m\u00e9thode constructeur **\\_\\_init\\_\\_()** de la classe fille doit **obligatoirement appeler la m\u00e9thode constructeur de sa m\u00e8re**. C'est le r\u00f4le ici de la ligne 6.\n",
      "- On d\u00e9finit ensuite les nouveaux attributs propres aux objets de la classe ***Trinome()***."
     ]
    },
    {
     "cell_type": "heading",
     "level": 3,
     "metadata": {},
     "source": [
      "Utilisation de la nouvelle classe"
     ]
    },
    {
     "cell_type": "markdown",
     "metadata": {},
     "source": [
      "Testons maintenant notre nouvelle classe Trinome().\n",
      "\n",
      "Cette classe ayant \u00e9t\u00e9 explicitement d\u00e9finie comme fille de la classe Polynome(), elle a h\u00e9rit\u00e9 de toutes les m\u00e9thodes et de tous les attributs de celle-ci.\n",
      "\n",
      "On peut donc ex\u00e9cuter le code suivant :"
     ]
    },
    {
     "cell_type": "code",
     "collapsed": false,
     "input": [
      "t1 = Trinome([2, -3, -5])\n",
      "print(t1)\n",
      "print(\"Delta=\",t1.delta)\n",
      "print(\"Racines\",t1.racines())\n",
      "print(t1.valeur(0.4))"
     ],
     "language": "python",
     "metadata": {},
     "outputs": []
    },
    {
     "cell_type": "heading",
     "level": 1,
     "metadata": {},
     "source": [
      "A vous de jouer"
     ]
    },
    {
     "cell_type": "markdown",
     "metadata": {},
     "source": [
      "Cr\u00e9er une classe pour repr\u00e9senter les nombre rationnels. \n",
      "\n",
      "Vous d\u00e9finirez les m\u00e9thodes permettant d\u2019additionner, de soustraire, de multiplier et de diviser deux rationnels, ainsi qu'une m\u00e9thode permettant un affichage sous la forme a/b."
     ]
    },
    {
     "cell_type": "code",
     "collapsed": false,
     "input": [
      "# Votre classe ici"
     ],
     "language": "python",
     "metadata": {},
     "outputs": []
    },
    {
     "cell_type": "code",
     "collapsed": false,
     "input": [
      "# Tester votre classe\n",
      "p=Rationnel(2,3)\n",
      "q=Rationnel(3,4)\n",
      "print (\"p=\",p)\n",
      "print (\"q=\",q)\n",
      "print(\"p+q\",p+q)\n",
      "print(\"p-q\",p-q)\n",
      "print(\"p*q\",p*q)\n",
      "print(\"p/q\",p/q)"
     ],
     "language": "python",
     "metadata": {},
     "outputs": []
    },
    {
     "cell_type": "heading",
     "level": 1,
     "metadata": {},
     "source": [
      "Exercice facultatif"
     ]
    },
    {
     "cell_type": "markdown",
     "metadata": {},
     "source": [
      "Pour la gestion d'une biblioth\u00e8que, cr\u00e9er une classe ***Document()*** d\u00e9finissant une propri\u00e9t\u00e9 bool\u00e9en **sorti**, une propri\u00e9t\u00e9 **titre** sous forme de cha\u00eene de caract\u00e8re, une m\u00e9thode **prete()** et une m\u00e9thode **retourne()** qui changent la valeur de la propri\u00e9t\u00e9 **sorti**.\n",
      "\n",
      "Cr\u00e9er ensuite une classe fille ***Livre()*** qui poss\u00e9dera en plus une propri\u00e9t\u00e9 **auteur** et une propri\u00e9t\u00e9 **nombre_de_pages** ainsi qu'une classe fille ***Dvd()*** avec une propri\u00e9t\u00e9 **duree** en minutes.\n",
      "\n",
      "Attention, toutes les propri\u00e9t\u00e9s doivent \u00eatre initialis\u00e9es par la m\u00e9thode constructeur de la classe !"
     ]
    },
    {
     "cell_type": "code",
     "collapsed": false,
     "input": [
      "# Votre classe ici"
     ],
     "language": "python",
     "metadata": {},
     "outputs": []
    },
    {
     "cell_type": "markdown",
     "metadata": {},
     "source": [
      "![](https://upload.wikimedia.org/wikipedia/commons/3/3b/SteacieLibrary.jpg)"
     ]
    },
    {
     "cell_type": "code",
     "collapsed": false,
     "input": [],
     "language": "python",
     "metadata": {},
     "outputs": []
    }
   ],
   "metadata": {}
  }
 ]
}