{
 "metadata": {
  "name": "",
  "signature": "sha256:1a191fd80f6b7450b3434c54d6a6e6d6177f5f85be6d878b258eb82cc21f1a26"
 },
 "nbformat": 3,
 "nbformat_minor": 0,
 "worksheets": [
  {
   "cells": [
    {
     "cell_type": "heading",
     "level": 1,
     "metadata": {},
     "source": [
      "Le d\u00e9mineur"
     ]
    },
    {
     "cell_type": "heading",
     "level": 2,
     "metadata": {},
     "source": [
      "Un tableau \u00e0 deux dimensions"
     ]
    },
    {
     "cell_type": "markdown",
     "metadata": {},
     "source": [
      "Nous savons qu'il est possible de mettre dans des listes tout type d'objets, et donc pourquoi pas... des listes ! Nous pouvons donc obtenir ainsi des tableaux \u00e0 deux dimensions. L'exemple suivant montre la cr\u00e9ation manuelle d'un tableau 3x3."
     ]
    },
    {
     "cell_type": "code",
     "collapsed": false,
     "input": [
      "tableau=[[1, 2, 3],[4,5,6], [7,8,9]]\n",
      "print (tableau[0][2])"
     ],
     "language": "python",
     "metadata": {},
     "outputs": []
    },
    {
     "cell_type": "heading",
     "level": 2,
     "metadata": {},
     "source": [
      "Construction d'une grille"
     ]
    },
    {
     "cell_type": "heading",
     "level": 3,
     "metadata": {},
     "source": [
      "Construire une ligne"
     ]
    },
    {
     "cell_type": "markdown",
     "metadata": {},
     "source": [
      "Ecrire un programme permettant de construire une liste ***ligne*** contenant 10 fois la valeur 0\n",
      "***Conseils*** :\n",
      "- pour initialiser notre ligne, on pourra utiliser une liste vide \u2337\n",
      "- on pourra utiliser une boucle *pour*\n",
      "- on pourra utiliser la fonction **ligne.append(0)** qui permet d'ajouter un 0 \u00e0 la liste"
     ]
    },
    {
     "cell_type": "code",
     "collapsed": false,
     "input": [
      "# Votre programme ici \n"
     ],
     "language": "python",
     "metadata": {},
     "outputs": []
    },
    {
     "cell_type": "markdown",
     "metadata": {},
     "source": [
      "V\u00e9rification : La cellule suivante doit retourner \n",
      "\n",
      "    [0, 0, 0, 0, 0, 0, 0, 0, 0, 0]"
     ]
    },
    {
     "cell_type": "code",
     "collapsed": false,
     "input": [
      "print(ligne)"
     ],
     "language": "python",
     "metadata": {},
     "outputs": []
    },
    {
     "cell_type": "markdown",
     "metadata": {},
     "source": [
      "On souhaite \u00e0 pr\u00e9sent remplacer quelques 0 al\u00e9atoirement par des 1. Fixons la probabilit\u00e9 d'avoir 1 \u00e0 0,2. \n",
      "\n",
      "Voici comment math\u00e9matiquement nous pouvons obtenir 0 ou 1 avec une probabilit\u00e9 de 0,2 d'avoir 1. Il s'agit ici d'exploiter le fait que la fonction random()+0.2 renvoie un nombre entre 0.2 et 1.2...\n",
      "\n",
      "En validant la cellule ci-dessous plusieurs fois, vous devriez obtenir 1 de temps en temps."
     ]
    },
    {
     "cell_type": "code",
     "collapsed": false,
     "input": [
      "from random import *\n",
      "\n",
      "p=0.2\n",
      "print(int(random()+p))"
     ],
     "language": "python",
     "metadata": {},
     "outputs": []
    },
    {
     "cell_type": "markdown",
     "metadata": {},
     "source": [
      "A pr\u00e9sent, utilisez cette astuce de calcul pour cr\u00e9er une ligne contenant 1 de temps en temps avec une probabilit\u00e9 de 0.2."
     ]
    },
    {
     "cell_type": "code",
     "collapsed": false,
     "input": [
      "# Votre programme ici \n"
     ],
     "language": "python",
     "metadata": {},
     "outputs": []
    },
    {
     "cell_type": "markdown",
     "metadata": {},
     "source": [
      "V\u00e9rification : La cellule suivante doit retourner quelque chose ressemblant \u00e0 ceci :\n",
      "\n",
      "    [0, 0, 1, 1, 1, 0, 0, 0, 0, 0]"
     ]
    },
    {
     "cell_type": "code",
     "collapsed": false,
     "input": [
      "print(ligne)"
     ],
     "language": "python",
     "metadata": {},
     "outputs": []
    },
    {
     "cell_type": "heading",
     "level": 2,
     "metadata": {},
     "source": [
      "construire une grille"
     ]
    },
    {
     "cell_type": "markdown",
     "metadata": {},
     "source": [
      "Une grille - ou un tableau \u00e0 deux dimensions - est en r\u00e9alit\u00e9 une liste de lignes. Chaque ligne est construite selon le m\u00eame proc\u00e9d\u00e9 que celui utilis\u00e9 ci-dessus.\n",
      "\n",
      "Pour construire notre grille, nous allons donc construire une liste de 10 \u00e9l\u00e9ments comme pr\u00e9c\u00e9demment, mais au lieu de mettre 0 ou 1, nous mettrons une ligne que nous construirons selon le proc\u00e9d\u00e9 d\u00e9j\u00e0 utilis\u00e9.\n",
      "\n",
      "***conseils*** :\n",
      "- Vous pourrez utiliser deux boucles **pour** imbriqu\u00e9es l'une dans l'autre.\n",
      "- vous pourrez construire votre grille dans une variable **grille** que vous initialiserez \u00e0 [ ]\n",
      "- Vous remplirez votre grille gr\u00e2ce \u00e0 l'appel grille.append(ligne) apr\u00e8s chaque construction d'une ligne"
     ]
    },
    {
     "cell_type": "code",
     "collapsed": false,
     "input": [
      "from random import *\n",
      "\n",
      "# votre programme ici\n"
     ],
     "language": "python",
     "metadata": {},
     "outputs": []
    },
    {
     "cell_type": "markdown",
     "metadata": {},
     "source": [
      "V\u00e9rification : La cellule suivante doit afficher quelque chose ressemblant \u00e0 ceci :\n",
      "\n",
      "    [[0, 0, 0, 0, 0, 0, 1, 0, 0, 0],\n",
      "     [1, 0, 0, 0, 0, 0, 1, 0, 1, 0],\n",
      "     [0, 0, 0, 0, 0, 0, 0, 0, 0, 0],\n",
      "     [0, 0, 0, 0, 0, 0, 0, 0, 0, 0],\n",
      "     [0, 0, 0, 0, 0, 1, 0, 1, 0, 1],\n",
      "     [0, 0, 0, 0, 0, 0, 0, 0, 0, 0],\n",
      "     [1, 0, 0, 0, 0, 0, 0, 1, 0, 0],\n",
      "     [0, 0, 1, 0, 0, 0, 0, 0, 0, 0],\n",
      "     [0, 0, 1, 0, 0, 0, 1, 0, 0, 0],\n",
      "     [0, 0, 0, 0, 0, 1, 0, 0, 0, 1]]"
     ]
    },
    {
     "cell_type": "code",
     "collapsed": false,
     "input": [
      "grille"
     ],
     "language": "python",
     "metadata": {},
     "outputs": []
    },
    {
     "cell_type": "markdown",
     "metadata": {},
     "source": [
      "F\u00e9licitations votre grille est cr\u00e9\u00e9e !"
     ]
    },
    {
     "cell_type": "heading",
     "level": 2,
     "metadata": {},
     "source": [
      "Jouer un coup"
     ]
    },
    {
     "cell_type": "markdown",
     "metadata": {},
     "source": [
      "A pr\u00e9sent, demander \u00e0 l'utilisateur de saisir un num\u00e9ro de ligne et de colonne (entre 0 et 9).\n",
      "- Si cela correspond \u00e0 une case contenant 0, \u00e9crire le chiffre 2 dans cette case\n",
      "- Si cela correspond \u00e0 une case contenant 1, afficher \"Boooouum\"\n",
      "- Si cela correspond \u00e0 une case contenant 2, afficher \"Case d\u00e9j\u00e0 d\u00e9couverte\"\n",
      "\n",
      "***Conseils*** : \n",
      "- On pourra utiliser notre variable grille d\u00e9j\u00e0 construite. Pour refaire une grille propre, revalider la cellule permettant de construire cette grille.\n",
      "- Pour saisir un nombre, on pourra utiliser :  \n",
      "        l=int(input(\"Saisir un numero de ligne\"))\n",
      "- Pour faire un test comportant un *sinon ... si*, on pourra utiliser la structure Python suivante :  \n",
      "        if condition :\n",
      "            bloc d'instructions \u00e0 r\u00e9aliser\n",
      "            si condition est vraie\n",
      "        elif autreCondition :\n",
      "            bloc d'instructions \u00e0 r\u00e9aliser\n",
      "            si autreCOndition est vraie\n",
      "        else :\n",
      "            bloc d'instructions \u00e0 r\u00e9aliser\n",
      "            si aucune condition n'est vraie\n",
      "- l'acc\u00e8s \u00e0 l'\u00e9l\u00e9ment de la grille \u00e0 la colonne ***c*** et la ligne ***l*** se fait par \n",
      "        grille[l][c]"
     ]
    },
    {
     "cell_type": "code",
     "collapsed": false,
     "input": [
      "# Taper votre code ici"
     ],
     "language": "python",
     "metadata": {},
     "outputs": []
    },
    {
     "cell_type": "markdown",
     "metadata": {},
     "source": [
      "V\u00e9rifiez en validant la cellule ci-dessous que des 2 ont bien \u00e9t\u00e9 positionn\u00e9s sur les cellules d\u00e9couvertes"
     ]
    },
    {
     "cell_type": "code",
     "collapsed": false,
     "input": [
      "grille"
     ],
     "language": "python",
     "metadata": {},
     "outputs": []
    },
    {
     "cell_type": "heading",
     "level": 2,
     "metadata": {},
     "source": [
      "Jouer une partie"
     ]
    },
    {
     "cell_type": "markdown",
     "metadata": {},
     "source": [
      "A pr\u00e9sent, nous voulons jouer une partie enti\u00e8re, \u00e0 savoir demander \u00e0 l'utilisateur de jouer un coup jusqu'\u00e0 ce qu'on tombe sur une mine.\n",
      "***Conseils*** :\n",
      "- Ne conaissant pas par avance le nombre de coups \u00e0 jouer, utiliser une boucle ***Tant que*** contenant le programme jouer un coup d\u00e9j\u00e0 r\u00e9alis\u00e9\n",
      "- Cr\u00e9er une variable booleenne **toutVaBien** initialis\u00e9e \u00e0 **True** afin de m\u00e9moris\u00e9 quand on tombe sur une mine. En cas d'explosion, on pourra positionner cette variable \u00e0 **False**."
     ]
    },
    {
     "cell_type": "code",
     "collapsed": false,
     "input": [
      "# Recalculer une grille propre en copiant collant le code d\u00e9j\u00e0 existant pour fabriquer une grille propre\n"
     ],
     "language": "python",
     "metadata": {},
     "outputs": []
    },
    {
     "cell_type": "code",
     "collapsed": false,
     "input": [
      "# Ecrire le code permettant de jouer une partie ici\n"
     ],
     "language": "python",
     "metadata": {},
     "outputs": []
    },
    {
     "cell_type": "markdown",
     "metadata": {},
     "source": [
      "Modifier le programme ci-dessus pour m\u00e9moriser le nombre de coups utilis\u00e9s. Afficher le nombre de coup en fin de partie.\n",
      "\n",
      "**Conseil** : On pourra utiliser une variable **nbCoups** initialis\u00e9e \u00e0 0, que l'on incr\u00e9mentera \u00e0 chaque tentative."
     ]
    },
    {
     "cell_type": "code",
     "collapsed": false,
     "input": [
      "# Ecrire le code permettant de jouer une partie ici\n"
     ],
     "language": "python",
     "metadata": {},
     "outputs": []
    },
    {
     "cell_type": "markdown",
     "metadata": {},
     "source": [
      "Compter le nombre de cases d\u00e9couvertes\n",
      "\n",
      "***Conseil*** : On pourra utiliser la m\u00e9thode **.count(element)** sur chacune des lignes de la grille et ajouter le tout"
     ]
    },
    {
     "cell_type": "code",
     "collapsed": false,
     "input": [
      "# Tapez votre ligne ici\n"
     ],
     "language": "python",
     "metadata": {},
     "outputs": []
    },
    {
     "cell_type": "code",
     "collapsed": false,
     "input": [
      "grille"
     ],
     "language": "python",
     "metadata": {},
     "outputs": []
    },
    {
     "cell_type": "code",
     "collapsed": false,
     "input": [],
     "language": "python",
     "metadata": {},
     "outputs": []
    }
   ],
   "metadata": {}
  }
 ]
}