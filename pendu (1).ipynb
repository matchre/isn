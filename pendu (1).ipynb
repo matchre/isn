{
 "cells": [
  {
   "cell_type": "markdown",
   "metadata": {
    "collapsed": true
   },
   "source": [
    "Un pendu pour se rassurer\n",
    "=========================\n",
    "\n",
    "Réouvrir la page principale\n",
    "---------------------------\n",
    "\n",
    "[Cliquer ici](../main.ipynb)\n",
    "\n",
    "\n",
    "Rappel des règles du jeu du pendu\n",
    "---------------------------------\n",
    "\n",
    "Dans ce jeu, on doit deviner un mot. On dispose pour cela d'un nombre fini d'essais pour proposer des lettres qui seraient contenues dans le mot à deviner. Si l'on trouve une lettre, on peut alors proposer une réponse.\n",
    "\n",
    "\n",
    "À vous de jouer : traduire un algorithme en un programme Python\n",
    "---------------------------------------------------------------\n",
    "\n",
    "Nous vous proposons l'algorithme ci-dessous traduisant une version un peu modifiée du jeu du pendu *(cette version souffre de quelques défauts mais peu importe)*. Nous utilisons les conventions suivantes dans la rédaction de notre algorithme.\n",
    "\n",
    "1. `a = b` symbolise l'écriture $a \\leftarrow b$ qui signifie que l'on affecte $b$ dans $a$.\n",
    "1. `VRAI` et `FAUX` sont des valeurs booléennes.\n",
    "1. Les doubles points `:...` sont une abréviation de `faire:...` .\n",
    "1. Les blocs d'instruction sont matérialisés par des blocs indentés, ou décalés si vous préférez.\n",
    "1. Les lignes commençant par le symbole sharp `#` sont des lignes de commentaires et non des instructions."
   ]
  },
  {
   "cell_type": "raw",
   "metadata": {
    "collapsed": false
   },
   "source": [
    "# Deux variables générales modifiables sans problème.\n",
    "MOT_A_DECOUVRIR = \"strangulation\"  # Mot en minuscules obligatoirement !\n",
    "NBRE_MAX_ESSAIS = 10\n",
    "\n",
    "# Début de la partie.\n",
    "lettres_trouvees = Ensemble vide\n",
    "nbre_essais = 1\n",
    "a_gagne = FAUX\n",
    "\n",
    "Tant que a_gagne = FAUX et nbre_essais <= NBRE_MAX_ESSAIS:\n",
    "    # On indique au joueur où il en est.\n",
    "    # On définit un texte vide via \"\".\n",
    "    infos_mots = \"\"\n",
    "    \n",
    "    Pour chaque caractère cara obtenu en parcourant MOT_A_DECOUVRIR\n",
    "    de gauche à droite:\n",
    "        Si cara est dans l'ensemble lettres_trouvees:\n",
    "            Ajouter cara à infos_mots\n",
    "        Sinon:\n",
    "            Ajouter le caractère tiret à infos_mots\n",
    "    \n",
    "    Afficher \"Essai n°\", nbre_essais, \"sur\", NBRE_MAX_ESSAIS\n",
    "    Afficher \"Mots à trouver :\", infos_mots   \n",
    "\n",
    "    # On interroge le joueur.\n",
    "    Demander au joueur une lettre ou un mot.\n",
    "    Stocker sa réponse dans la variable une_proposition.\n",
    "    Mettre le contenu de une_proposition tout en minuscule.\n",
    "\n",
    "    # Une lettre du mot a été trouvée.\n",
    "    Si une_proposition est de longueur 1 et une_proposition\n",
    "    apparaît dans le texte MOT_A_DECOUVRIR:\n",
    "        Afficher \"Une nouvelle lettre trouvée.\"\n",
    "        Ajouter la lettre une_proposition à l'ensemble \n",
    "        lettres_trouvees.\n",
    "        \n",
    "    # Une lettre n'a pas été trouvée. On considère dans \n",
    "    # ce cas que le joueur propose une réponse (on ne\n",
    "    # gère pas les erreurs de saisie).\n",
    "    Sinon Si une_proposition = MOT_A_DECOUVRIR:\n",
    "        a_gagne = VRAI\n",
    "        \n",
    "    # Un esai de plus a été effectué.\n",
    "    nbre_essais = nbre_essais + 1\n",
    "\n",
    "# Tous les essais ont été tentés, et/ou le joueur a gagné.\n",
    "Si a_gagne = VRAI:\n",
    "    Afficher \"Bravo ! Vous avez gagné. Le mot était bien :\"\n",
    "Sinon:\n",
    "    Afficher \"Perdu ! Le mot était :\"\n",
    "\n",
    "Afficher MOT_A_DECOUVRIR"
   ]
  },
  {
   "cell_type": "markdown",
   "metadata": {},
   "source": [
    "Traduisons ensemble cet algorithme dans le langage Python en vous aidant si besoin du document [\"Boîte à outils - Premiers pas avec Python 3\"](https://github.com/projetmbc/books/blob/master/program%5Bmation%5D/python3/toolboxes/fr/beginner/latex/main.pdf)."
   ]
  }
 ],
 "metadata": {
  "kernelspec": {
   "display_name": "Python 3",
   "language": "python",
   "name": "python3"
  },
  "language_info": {
   "codemirror_mode": {
    "name": "ipython",
    "version": 3
   },
   "file_extension": ".py",
   "mimetype": "text/x-python",
   "name": "python",
   "nbconvert_exporter": "python",
   "pygments_lexer": "ipython3",
   "version": "3.4.3"
  }
 },
 "nbformat": 4,
 "nbformat_minor": 0
}
